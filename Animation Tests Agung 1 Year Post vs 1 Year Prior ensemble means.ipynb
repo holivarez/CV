{
 "cells": [
  {
   "cell_type": "code",
   "execution_count": 1,
   "metadata": {},
   "outputs": [
    {
     "name": "stdout",
     "output_type": "stream",
     "text": [
      "Populating the interactive namespace from numpy and matplotlib\n"
     ]
    }
   ],
   "source": [
    "import xarray\n",
    "import matplotlib.pyplot as plt\n",
    "from matplotlib import animation\n",
    "from IPython.display import HTML\n",
    "%pylab inline\n",
    "%matplotlib inline\n",
    "import glob\n",
    "import seaborn as sns\n",
    "sns.set()\n",
    "sns.set_style('white')\n",
    "import numpy as np\n",
    "d1800=1800*365 #do not alter\n",
    "import datetime #do not alter\n",
    "import cartopy.crs as ccrs\n",
    "from scipy.interpolate import griddata #pulling interpolate from scipy, only pulling griddata\n",
    "from cartopy.util import add_cyclic_point #pull a utility function to add a cyclic point (gets rid of white stripe)"
   ]
  },
  {
   "cell_type": "code",
   "execution_count": 4,
   "metadata": {},
   "outputs": [],
   "source": [
    "filenames=['/Volumes/model/CESM-CAM5-BGC-LE/ocn/proc/tseries/monthly/PH_ALT_CO2/b.e11.B20TRC5CNBDRD.f09_g16.001.pop.h.PH_ALT_CO2.185001-200512.nc',\n",
    "           '/Volumes/model/CESM-CAM5-BGC-LE/ocn/proc/tseries/monthly/PH_ALT_CO2/b.e11.B20TRC5CNBDRD.f09_g16.002.pop.h.PH_ALT_CO2.192001-200512.nc',\n",
    "           '/Volumes/model/CESM-CAM5-BGC-LE/ocn/proc/tseries/monthly/PH_ALT_CO2/b.e11.B20TRC5CNBDRD.f09_g16.009.pop.h.PH_ALT_CO2.192001-200512.nc',\n",
    "           '/Volumes/model/CESM-CAM5-BGC-LE/ocn/proc/tseries/monthly/PH_ALT_CO2/b.e11.B20TRC5CNBDRD.f09_g16.010.pop.h.PH_ALT_CO2.192001-200512.nc',\n",
    "           '/Volumes/model/CESM-CAM5-BGC-LE/ocn/proc/tseries/monthly/PH_ALT_CO2/b.e11.B20TRC5CNBDRD.f09_g16.011.pop.h.PH_ALT_CO2.192001-200512.nc',\n",
    "           '/Volumes/model/CESM-CAM5-BGC-LE/ocn/proc/tseries/monthly/PH_ALT_CO2/b.e11.B20TRC5CNBDRD.f09_g16.012.pop.h.PH_ALT_CO2.192001-200512.nc',\n",
    "           '/Volumes/model/CESM-CAM5-BGC-LE/ocn/proc/tseries/monthly/PH_ALT_CO2/b.e11.B20TRC5CNBDRD.f09_g16.013.pop.h.PH_ALT_CO2.192001-200512.nc',\n",
    "           '/Volumes/model/CESM-CAM5-BGC-LE/ocn/proc/tseries/monthly/PH_ALT_CO2/b.e11.B20TRC5CNBDRD.f09_g16.014.pop.h.PH_ALT_CO2.192001-200512.nc',\n",
    "           '/Volumes/model/CESM-CAM5-BGC-LE/ocn/proc/tseries/monthly/PH_ALT_CO2/b.e11.B20TRC5CNBDRD.f09_g16.015.pop.h.PH_ALT_CO2.192001-200512.nc',\n",
    "           '/Volumes/model/CESM-CAM5-BGC-LE/ocn/proc/tseries/monthly/PH_ALT_CO2/b.e11.B20TRC5CNBDRD.f09_g16.016.pop.h.PH_ALT_CO2.192001-200512.nc',\n",
    "           '/Volumes/model/CESM-CAM5-BGC-LE/ocn/proc/tseries/monthly/PH_ALT_CO2/b.e11.B20TRC5CNBDRD.f09_g16.017.pop.h.PH_ALT_CO2.192001-200512.nc',\n",
    "           '/Volumes/model/CESM-CAM5-BGC-LE/ocn/proc/tseries/monthly/PH_ALT_CO2/b.e11.B20TRC5CNBDRD.f09_g16.018.pop.h.PH_ALT_CO2.192001-200512.nc',\n",
    "           '/Volumes/model/CESM-CAM5-BGC-LE/ocn/proc/tseries/monthly/PH_ALT_CO2/b.e11.B20TRC5CNBDRD.f09_g16.019.pop.h.PH_ALT_CO2.192001-200512.nc',\n",
    "           '/Volumes/model/CESM-CAM5-BGC-LE/ocn/proc/tseries/monthly/PH_ALT_CO2/b.e11.B20TRC5CNBDRD.f09_g16.020.pop.h.PH_ALT_CO2.192001-200512.nc',\n",
    "           '/Volumes/model/CESM-CAM5-BGC-LE/ocn/proc/tseries/monthly/PH_ALT_CO2/b.e11.B20TRC5CNBDRD.f09_g16.021.pop.h.PH_ALT_CO2.192001-200512.nc',\n",
    "           '/Volumes/model/CESM-CAM5-BGC-LE/ocn/proc/tseries/monthly/PH_ALT_CO2/b.e11.B20TRC5CNBDRD.f09_g16.022.pop.h.PH_ALT_CO2.192001-200512.nc',\n",
    "           '/Volumes/model/CESM-CAM5-BGC-LE/ocn/proc/tseries/monthly/PH_ALT_CO2/b.e11.B20TRC5CNBDRD.f09_g16.023.pop.h.PH_ALT_CO2.192001-200512.nc',\n",
    "           '/Volumes/model/CESM-CAM5-BGC-LE/ocn/proc/tseries/monthly/PH_ALT_CO2/b.e11.B20TRC5CNBDRD.f09_g16.024.pop.h.PH_ALT_CO2.192001-200512.nc',\n",
    "           '/Volumes/model/CESM-CAM5-BGC-LE/ocn/proc/tseries/monthly/PH_ALT_CO2/b.e11.B20TRC5CNBDRD.f09_g16.025.pop.h.PH_ALT_CO2.192001-200512.nc',\n",
    "           '/Volumes/model/CESM-CAM5-BGC-LE/ocn/proc/tseries/monthly/PH_ALT_CO2/b.e11.B20TRC5CNBDRD.f09_g16.026.pop.h.PH_ALT_CO2.192001-200512.nc',\n",
    "           '/Volumes/model/CESM-CAM5-BGC-LE/ocn/proc/tseries/monthly/PH_ALT_CO2/b.e11.B20TRC5CNBDRD.f09_g16.027.pop.h.PH_ALT_CO2.192001-200512.nc',\n",
    "           '/Volumes/model/CESM-CAM5-BGC-LE/ocn/proc/tseries/monthly/PH_ALT_CO2/b.e11.B20TRC5CNBDRD.f09_g16.028.pop.h.PH_ALT_CO2.192001-200512.nc',\n",
    "           '/Volumes/model/CESM-CAM5-BGC-LE/ocn/proc/tseries/monthly/PH_ALT_CO2/b.e11.B20TRC5CNBDRD.f09_g16.029.pop.h.PH_ALT_CO2.192001-200512.nc',\n",
    "           '/Volumes/model/CESM-CAM5-BGC-LE/ocn/proc/tseries/monthly/PH_ALT_CO2/b.e11.B20TRC5CNBDRD.f09_g16.030.pop.h.PH_ALT_CO2.192001-200512.nc',\n",
    "           '/Volumes/model/CESM-CAM5-BGC-LE/ocn/proc/tseries/monthly/PH_ALT_CO2/b.e11.B20TRC5CNBDRD.f09_g16.031.pop.h.PH_ALT_CO2.192001-200512.nc',\n",
    "           '/Volumes/model/CESM-CAM5-BGC-LE/ocn/proc/tseries/monthly/PH_ALT_CO2/b.e11.B20TRC5CNBDRD.f09_g16.032.pop.h.PH_ALT_CO2.192001-200512.nc',\n",
    "           '/Volumes/model/CESM-CAM5-BGC-LE/ocn/proc/tseries/monthly/PH_ALT_CO2/b.e11.B20TRC5CNBDRD.f09_g16.033.pop.h.PH_ALT_CO2.192001-200512.nc',\n",
    "           '/Volumes/model/CESM-CAM5-BGC-LE/ocn/proc/tseries/monthly/PH_ALT_CO2/b.e11.B20TRC5CNBDRD.f09_g16.034.pop.h.PH_ALT_CO2.192001-200512.nc',\n",
    "           '/Volumes/model/CESM-CAM5-BGC-LE/ocn/proc/tseries/monthly/PH_ALT_CO2/b.e11.B20TRC5CNBDRD.f09_g16.035.pop.h.PH_ALT_CO2.192001-200512.nc',\n",
    "           '/Volumes/model/CESM-CAM5-BGC-LE/ocn/proc/tseries/monthly/PH_ALT_CO2/b.e11.B20TRC5CNBDRD.f09_g16.101.pop.h.PH_ALT_CO2.192001-200512.nc',\n",
    "           '/Volumes/model/CESM-CAM5-BGC-LE/ocn/proc/tseries/monthly/PH_ALT_CO2/b.e11.B20TRC5CNBDRD.f09_g16.102.pop.h.PH_ALT_CO2.192001-200512.nc',\n",
    "           '/Volumes/model/CESM-CAM5-BGC-LE/ocn/proc/tseries/monthly/PH_ALT_CO2/b.e11.B20TRC5CNBDRD.f09_g16.103.pop.h.PH_ALT_CO2.192001-200512.nc',\n",
    "           '/Volumes/model/CESM-CAM5-BGC-LE/ocn/proc/tseries/monthly/PH_ALT_CO2/b.e11.B20TRC5CNBDRD.f09_g16.104.pop.h.PH_ALT_CO2.192001-200512.nc',\n",
    "           '/Volumes/model/CESM-CAM5-BGC-LE/ocn/proc/tseries/monthly/PH_ALT_CO2/b.e11.B20TRC5CNBDRD.f09_g16.105.pop.h.PH_ALT_CO2.192001-200512.nc',\n",
    "           '/Volumes/model/CESM-CAM5-BGC-LE/ocn/proc/tseries/monthly/PH_ALT_CO2/b.e11.B20TRC5CNBDRD.f09_g16.106.pop.h.PH_ALT_CO2.192001-200512.nc',\n",
    "           '/Volumes/model/CESM-CAM5-BGC-LE/ocn/proc/tseries/monthly/PH_ALT_CO2/b.e11.B20TRC5CNBDRD.f09_g16.107.pop.h.PH_ALT_CO2.192001-200512.nc']"
   ]
  },
  {
   "cell_type": "code",
   "execution_count": 5,
   "metadata": {},
   "outputs": [
    {
     "name": "stdout",
     "output_type": "stream",
     "text": [
      "0\n"
     ]
    },
    {
     "name": "stderr",
     "output_type": "stream",
     "text": [
      "/Users/holivarez/anaconda3/lib/python3.6/site-packages/xarray/conventions.py:313: UserWarning: CF decoding is overwriting dtype on variable 'KMT'\n",
      "  .format(name))\n",
      "/Users/holivarez/anaconda3/lib/python3.6/site-packages/xarray/conventions.py:313: UserWarning: CF decoding is overwriting dtype on variable 'KMU'\n",
      "  .format(name))\n",
      "/Users/holivarez/anaconda3/lib/python3.6/site-packages/xarray/conventions.py:313: UserWarning: CF decoding is overwriting dtype on variable 'REGION_MASK'\n",
      "  .format(name))\n",
      "/Users/holivarez/anaconda3/lib/python3.6/site-packages/xarray/conventions.py:313: UserWarning: CF decoding is overwriting dtype on variable 'moc_components'\n",
      "  .format(name))\n",
      "/Users/holivarez/anaconda3/lib/python3.6/site-packages/xarray/conventions.py:313: UserWarning: CF decoding is overwriting dtype on variable 'transport_components'\n",
      "  .format(name))\n",
      "/Users/holivarez/anaconda3/lib/python3.6/site-packages/xarray/conventions.py:313: UserWarning: CF decoding is overwriting dtype on variable 'transport_regions'\n",
      "  .format(name))\n"
     ]
    },
    {
     "name": "stdout",
     "output_type": "stream",
     "text": [
      "1\n"
     ]
    },
    {
     "name": "stderr",
     "output_type": "stream",
     "text": [
      "/Users/holivarez/anaconda3/lib/python3.6/site-packages/xarray/conventions.py:313: UserWarning: CF decoding is overwriting dtype on variable 'KMT'\n",
      "  .format(name))\n",
      "/Users/holivarez/anaconda3/lib/python3.6/site-packages/xarray/conventions.py:313: UserWarning: CF decoding is overwriting dtype on variable 'KMU'\n",
      "  .format(name))\n",
      "/Users/holivarez/anaconda3/lib/python3.6/site-packages/xarray/conventions.py:313: UserWarning: CF decoding is overwriting dtype on variable 'REGION_MASK'\n",
      "  .format(name))\n",
      "/Users/holivarez/anaconda3/lib/python3.6/site-packages/xarray/conventions.py:313: UserWarning: CF decoding is overwriting dtype on variable 'moc_components'\n",
      "  .format(name))\n",
      "/Users/holivarez/anaconda3/lib/python3.6/site-packages/xarray/conventions.py:313: UserWarning: CF decoding is overwriting dtype on variable 'transport_components'\n",
      "  .format(name))\n",
      "/Users/holivarez/anaconda3/lib/python3.6/site-packages/xarray/conventions.py:313: UserWarning: CF decoding is overwriting dtype on variable 'transport_regions'\n",
      "  .format(name))\n"
     ]
    },
    {
     "name": "stdout",
     "output_type": "stream",
     "text": [
      "2\n"
     ]
    },
    {
     "name": "stderr",
     "output_type": "stream",
     "text": [
      "/Users/holivarez/anaconda3/lib/python3.6/site-packages/xarray/conventions.py:313: UserWarning: CF decoding is overwriting dtype on variable 'KMT'\n",
      "  .format(name))\n",
      "/Users/holivarez/anaconda3/lib/python3.6/site-packages/xarray/conventions.py:313: UserWarning: CF decoding is overwriting dtype on variable 'KMU'\n",
      "  .format(name))\n",
      "/Users/holivarez/anaconda3/lib/python3.6/site-packages/xarray/conventions.py:313: UserWarning: CF decoding is overwriting dtype on variable 'REGION_MASK'\n",
      "  .format(name))\n",
      "/Users/holivarez/anaconda3/lib/python3.6/site-packages/xarray/conventions.py:313: UserWarning: CF decoding is overwriting dtype on variable 'moc_components'\n",
      "  .format(name))\n",
      "/Users/holivarez/anaconda3/lib/python3.6/site-packages/xarray/conventions.py:313: UserWarning: CF decoding is overwriting dtype on variable 'transport_components'\n",
      "  .format(name))\n",
      "/Users/holivarez/anaconda3/lib/python3.6/site-packages/xarray/conventions.py:313: UserWarning: CF decoding is overwriting dtype on variable 'transport_regions'\n",
      "  .format(name))\n"
     ]
    },
    {
     "name": "stdout",
     "output_type": "stream",
     "text": [
      "3\n"
     ]
    },
    {
     "name": "stderr",
     "output_type": "stream",
     "text": [
      "/Users/holivarez/anaconda3/lib/python3.6/site-packages/xarray/conventions.py:313: UserWarning: CF decoding is overwriting dtype on variable 'KMT'\n",
      "  .format(name))\n",
      "/Users/holivarez/anaconda3/lib/python3.6/site-packages/xarray/conventions.py:313: UserWarning: CF decoding is overwriting dtype on variable 'KMU'\n",
      "  .format(name))\n",
      "/Users/holivarez/anaconda3/lib/python3.6/site-packages/xarray/conventions.py:313: UserWarning: CF decoding is overwriting dtype on variable 'REGION_MASK'\n",
      "  .format(name))\n",
      "/Users/holivarez/anaconda3/lib/python3.6/site-packages/xarray/conventions.py:313: UserWarning: CF decoding is overwriting dtype on variable 'moc_components'\n",
      "  .format(name))\n",
      "/Users/holivarez/anaconda3/lib/python3.6/site-packages/xarray/conventions.py:313: UserWarning: CF decoding is overwriting dtype on variable 'transport_components'\n",
      "  .format(name))\n",
      "/Users/holivarez/anaconda3/lib/python3.6/site-packages/xarray/conventions.py:313: UserWarning: CF decoding is overwriting dtype on variable 'transport_regions'\n",
      "  .format(name))\n"
     ]
    },
    {
     "name": "stdout",
     "output_type": "stream",
     "text": [
      "4\n"
     ]
    },
    {
     "name": "stderr",
     "output_type": "stream",
     "text": [
      "/Users/holivarez/anaconda3/lib/python3.6/site-packages/xarray/conventions.py:313: UserWarning: CF decoding is overwriting dtype on variable 'KMT'\n",
      "  .format(name))\n",
      "/Users/holivarez/anaconda3/lib/python3.6/site-packages/xarray/conventions.py:313: UserWarning: CF decoding is overwriting dtype on variable 'KMU'\n",
      "  .format(name))\n",
      "/Users/holivarez/anaconda3/lib/python3.6/site-packages/xarray/conventions.py:313: UserWarning: CF decoding is overwriting dtype on variable 'REGION_MASK'\n",
      "  .format(name))\n",
      "/Users/holivarez/anaconda3/lib/python3.6/site-packages/xarray/conventions.py:313: UserWarning: CF decoding is overwriting dtype on variable 'moc_components'\n",
      "  .format(name))\n",
      "/Users/holivarez/anaconda3/lib/python3.6/site-packages/xarray/conventions.py:313: UserWarning: CF decoding is overwriting dtype on variable 'transport_components'\n",
      "  .format(name))\n",
      "/Users/holivarez/anaconda3/lib/python3.6/site-packages/xarray/conventions.py:313: UserWarning: CF decoding is overwriting dtype on variable 'transport_regions'\n",
      "  .format(name))\n"
     ]
    },
    {
     "name": "stdout",
     "output_type": "stream",
     "text": [
      "5\n"
     ]
    },
    {
     "name": "stderr",
     "output_type": "stream",
     "text": [
      "/Users/holivarez/anaconda3/lib/python3.6/site-packages/xarray/conventions.py:313: UserWarning: CF decoding is overwriting dtype on variable 'KMT'\n",
      "  .format(name))\n",
      "/Users/holivarez/anaconda3/lib/python3.6/site-packages/xarray/conventions.py:313: UserWarning: CF decoding is overwriting dtype on variable 'KMU'\n",
      "  .format(name))\n",
      "/Users/holivarez/anaconda3/lib/python3.6/site-packages/xarray/conventions.py:313: UserWarning: CF decoding is overwriting dtype on variable 'REGION_MASK'\n",
      "  .format(name))\n",
      "/Users/holivarez/anaconda3/lib/python3.6/site-packages/xarray/conventions.py:313: UserWarning: CF decoding is overwriting dtype on variable 'moc_components'\n",
      "  .format(name))\n",
      "/Users/holivarez/anaconda3/lib/python3.6/site-packages/xarray/conventions.py:313: UserWarning: CF decoding is overwriting dtype on variable 'transport_components'\n",
      "  .format(name))\n",
      "/Users/holivarez/anaconda3/lib/python3.6/site-packages/xarray/conventions.py:313: UserWarning: CF decoding is overwriting dtype on variable 'transport_regions'\n",
      "  .format(name))\n"
     ]
    },
    {
     "name": "stdout",
     "output_type": "stream",
     "text": [
      "6\n"
     ]
    },
    {
     "name": "stderr",
     "output_type": "stream",
     "text": [
      "/Users/holivarez/anaconda3/lib/python3.6/site-packages/xarray/conventions.py:313: UserWarning: CF decoding is overwriting dtype on variable 'KMT'\n",
      "  .format(name))\n",
      "/Users/holivarez/anaconda3/lib/python3.6/site-packages/xarray/conventions.py:313: UserWarning: CF decoding is overwriting dtype on variable 'KMU'\n",
      "  .format(name))\n",
      "/Users/holivarez/anaconda3/lib/python3.6/site-packages/xarray/conventions.py:313: UserWarning: CF decoding is overwriting dtype on variable 'REGION_MASK'\n",
      "  .format(name))\n",
      "/Users/holivarez/anaconda3/lib/python3.6/site-packages/xarray/conventions.py:313: UserWarning: CF decoding is overwriting dtype on variable 'moc_components'\n",
      "  .format(name))\n",
      "/Users/holivarez/anaconda3/lib/python3.6/site-packages/xarray/conventions.py:313: UserWarning: CF decoding is overwriting dtype on variable 'transport_components'\n",
      "  .format(name))\n",
      "/Users/holivarez/anaconda3/lib/python3.6/site-packages/xarray/conventions.py:313: UserWarning: CF decoding is overwriting dtype on variable 'transport_regions'\n",
      "  .format(name))\n"
     ]
    },
    {
     "name": "stdout",
     "output_type": "stream",
     "text": [
      "7\n"
     ]
    },
    {
     "name": "stderr",
     "output_type": "stream",
     "text": [
      "/Users/holivarez/anaconda3/lib/python3.6/site-packages/xarray/conventions.py:313: UserWarning: CF decoding is overwriting dtype on variable 'KMT'\n",
      "  .format(name))\n",
      "/Users/holivarez/anaconda3/lib/python3.6/site-packages/xarray/conventions.py:313: UserWarning: CF decoding is overwriting dtype on variable 'KMU'\n",
      "  .format(name))\n",
      "/Users/holivarez/anaconda3/lib/python3.6/site-packages/xarray/conventions.py:313: UserWarning: CF decoding is overwriting dtype on variable 'REGION_MASK'\n",
      "  .format(name))\n",
      "/Users/holivarez/anaconda3/lib/python3.6/site-packages/xarray/conventions.py:313: UserWarning: CF decoding is overwriting dtype on variable 'moc_components'\n",
      "  .format(name))\n",
      "/Users/holivarez/anaconda3/lib/python3.6/site-packages/xarray/conventions.py:313: UserWarning: CF decoding is overwriting dtype on variable 'transport_components'\n",
      "  .format(name))\n",
      "/Users/holivarez/anaconda3/lib/python3.6/site-packages/xarray/conventions.py:313: UserWarning: CF decoding is overwriting dtype on variable 'transport_regions'\n",
      "  .format(name))\n"
     ]
    },
    {
     "name": "stdout",
     "output_type": "stream",
     "text": [
      "8\n"
     ]
    },
    {
     "name": "stderr",
     "output_type": "stream",
     "text": [
      "/Users/holivarez/anaconda3/lib/python3.6/site-packages/xarray/conventions.py:313: UserWarning: CF decoding is overwriting dtype on variable 'KMT'\n",
      "  .format(name))\n",
      "/Users/holivarez/anaconda3/lib/python3.6/site-packages/xarray/conventions.py:313: UserWarning: CF decoding is overwriting dtype on variable 'KMU'\n",
      "  .format(name))\n",
      "/Users/holivarez/anaconda3/lib/python3.6/site-packages/xarray/conventions.py:313: UserWarning: CF decoding is overwriting dtype on variable 'REGION_MASK'\n",
      "  .format(name))\n",
      "/Users/holivarez/anaconda3/lib/python3.6/site-packages/xarray/conventions.py:313: UserWarning: CF decoding is overwriting dtype on variable 'moc_components'\n",
      "  .format(name))\n",
      "/Users/holivarez/anaconda3/lib/python3.6/site-packages/xarray/conventions.py:313: UserWarning: CF decoding is overwriting dtype on variable 'transport_components'\n",
      "  .format(name))\n",
      "/Users/holivarez/anaconda3/lib/python3.6/site-packages/xarray/conventions.py:313: UserWarning: CF decoding is overwriting dtype on variable 'transport_regions'\n",
      "  .format(name))\n"
     ]
    },
    {
     "name": "stdout",
     "output_type": "stream",
     "text": [
      "9\n"
     ]
    },
    {
     "name": "stderr",
     "output_type": "stream",
     "text": [
      "/Users/holivarez/anaconda3/lib/python3.6/site-packages/xarray/conventions.py:313: UserWarning: CF decoding is overwriting dtype on variable 'KMT'\n",
      "  .format(name))\n",
      "/Users/holivarez/anaconda3/lib/python3.6/site-packages/xarray/conventions.py:313: UserWarning: CF decoding is overwriting dtype on variable 'KMU'\n",
      "  .format(name))\n",
      "/Users/holivarez/anaconda3/lib/python3.6/site-packages/xarray/conventions.py:313: UserWarning: CF decoding is overwriting dtype on variable 'REGION_MASK'\n",
      "  .format(name))\n",
      "/Users/holivarez/anaconda3/lib/python3.6/site-packages/xarray/conventions.py:313: UserWarning: CF decoding is overwriting dtype on variable 'moc_components'\n",
      "  .format(name))\n",
      "/Users/holivarez/anaconda3/lib/python3.6/site-packages/xarray/conventions.py:313: UserWarning: CF decoding is overwriting dtype on variable 'transport_components'\n",
      "  .format(name))\n",
      "/Users/holivarez/anaconda3/lib/python3.6/site-packages/xarray/conventions.py:313: UserWarning: CF decoding is overwriting dtype on variable 'transport_regions'\n",
      "  .format(name))\n"
     ]
    },
    {
     "name": "stdout",
     "output_type": "stream",
     "text": [
      "10\n"
     ]
    },
    {
     "name": "stderr",
     "output_type": "stream",
     "text": [
      "/Users/holivarez/anaconda3/lib/python3.6/site-packages/xarray/conventions.py:313: UserWarning: CF decoding is overwriting dtype on variable 'KMT'\n",
      "  .format(name))\n",
      "/Users/holivarez/anaconda3/lib/python3.6/site-packages/xarray/conventions.py:313: UserWarning: CF decoding is overwriting dtype on variable 'KMU'\n",
      "  .format(name))\n",
      "/Users/holivarez/anaconda3/lib/python3.6/site-packages/xarray/conventions.py:313: UserWarning: CF decoding is overwriting dtype on variable 'REGION_MASK'\n",
      "  .format(name))\n",
      "/Users/holivarez/anaconda3/lib/python3.6/site-packages/xarray/conventions.py:313: UserWarning: CF decoding is overwriting dtype on variable 'moc_components'\n",
      "  .format(name))\n",
      "/Users/holivarez/anaconda3/lib/python3.6/site-packages/xarray/conventions.py:313: UserWarning: CF decoding is overwriting dtype on variable 'transport_components'\n",
      "  .format(name))\n",
      "/Users/holivarez/anaconda3/lib/python3.6/site-packages/xarray/conventions.py:313: UserWarning: CF decoding is overwriting dtype on variable 'transport_regions'\n",
      "  .format(name))\n"
     ]
    },
    {
     "name": "stdout",
     "output_type": "stream",
     "text": [
      "11\n"
     ]
    },
    {
     "name": "stderr",
     "output_type": "stream",
     "text": [
      "/Users/holivarez/anaconda3/lib/python3.6/site-packages/xarray/conventions.py:313: UserWarning: CF decoding is overwriting dtype on variable 'KMT'\n",
      "  .format(name))\n",
      "/Users/holivarez/anaconda3/lib/python3.6/site-packages/xarray/conventions.py:313: UserWarning: CF decoding is overwriting dtype on variable 'KMU'\n",
      "  .format(name))\n",
      "/Users/holivarez/anaconda3/lib/python3.6/site-packages/xarray/conventions.py:313: UserWarning: CF decoding is overwriting dtype on variable 'REGION_MASK'\n",
      "  .format(name))\n",
      "/Users/holivarez/anaconda3/lib/python3.6/site-packages/xarray/conventions.py:313: UserWarning: CF decoding is overwriting dtype on variable 'moc_components'\n",
      "  .format(name))\n",
      "/Users/holivarez/anaconda3/lib/python3.6/site-packages/xarray/conventions.py:313: UserWarning: CF decoding is overwriting dtype on variable 'transport_components'\n",
      "  .format(name))\n",
      "/Users/holivarez/anaconda3/lib/python3.6/site-packages/xarray/conventions.py:313: UserWarning: CF decoding is overwriting dtype on variable 'transport_regions'\n",
      "  .format(name))\n"
     ]
    },
    {
     "name": "stdout",
     "output_type": "stream",
     "text": [
      "12\n"
     ]
    },
    {
     "name": "stderr",
     "output_type": "stream",
     "text": [
      "/Users/holivarez/anaconda3/lib/python3.6/site-packages/xarray/conventions.py:313: UserWarning: CF decoding is overwriting dtype on variable 'KMT'\n",
      "  .format(name))\n",
      "/Users/holivarez/anaconda3/lib/python3.6/site-packages/xarray/conventions.py:313: UserWarning: CF decoding is overwriting dtype on variable 'KMU'\n",
      "  .format(name))\n",
      "/Users/holivarez/anaconda3/lib/python3.6/site-packages/xarray/conventions.py:313: UserWarning: CF decoding is overwriting dtype on variable 'REGION_MASK'\n",
      "  .format(name))\n",
      "/Users/holivarez/anaconda3/lib/python3.6/site-packages/xarray/conventions.py:313: UserWarning: CF decoding is overwriting dtype on variable 'moc_components'\n",
      "  .format(name))\n",
      "/Users/holivarez/anaconda3/lib/python3.6/site-packages/xarray/conventions.py:313: UserWarning: CF decoding is overwriting dtype on variable 'transport_components'\n",
      "  .format(name))\n",
      "/Users/holivarez/anaconda3/lib/python3.6/site-packages/xarray/conventions.py:313: UserWarning: CF decoding is overwriting dtype on variable 'transport_regions'\n",
      "  .format(name))\n"
     ]
    },
    {
     "name": "stdout",
     "output_type": "stream",
     "text": [
      "13\n"
     ]
    },
    {
     "name": "stderr",
     "output_type": "stream",
     "text": [
      "/Users/holivarez/anaconda3/lib/python3.6/site-packages/xarray/conventions.py:313: UserWarning: CF decoding is overwriting dtype on variable 'KMT'\n",
      "  .format(name))\n",
      "/Users/holivarez/anaconda3/lib/python3.6/site-packages/xarray/conventions.py:313: UserWarning: CF decoding is overwriting dtype on variable 'KMU'\n",
      "  .format(name))\n",
      "/Users/holivarez/anaconda3/lib/python3.6/site-packages/xarray/conventions.py:313: UserWarning: CF decoding is overwriting dtype on variable 'REGION_MASK'\n",
      "  .format(name))\n",
      "/Users/holivarez/anaconda3/lib/python3.6/site-packages/xarray/conventions.py:313: UserWarning: CF decoding is overwriting dtype on variable 'moc_components'\n",
      "  .format(name))\n",
      "/Users/holivarez/anaconda3/lib/python3.6/site-packages/xarray/conventions.py:313: UserWarning: CF decoding is overwriting dtype on variable 'transport_components'\n",
      "  .format(name))\n",
      "/Users/holivarez/anaconda3/lib/python3.6/site-packages/xarray/conventions.py:313: UserWarning: CF decoding is overwriting dtype on variable 'transport_regions'\n",
      "  .format(name))\n"
     ]
    },
    {
     "name": "stdout",
     "output_type": "stream",
     "text": [
      "14\n"
     ]
    },
    {
     "name": "stderr",
     "output_type": "stream",
     "text": [
      "/Users/holivarez/anaconda3/lib/python3.6/site-packages/xarray/conventions.py:313: UserWarning: CF decoding is overwriting dtype on variable 'moc_components'\n",
      "  .format(name))\n",
      "/Users/holivarez/anaconda3/lib/python3.6/site-packages/xarray/conventions.py:313: UserWarning: CF decoding is overwriting dtype on variable 'transport_components'\n",
      "  .format(name))\n",
      "/Users/holivarez/anaconda3/lib/python3.6/site-packages/xarray/conventions.py:313: UserWarning: CF decoding is overwriting dtype on variable 'transport_regions'\n",
      "  .format(name))\n",
      "/Users/holivarez/anaconda3/lib/python3.6/site-packages/xarray/conventions.py:313: UserWarning: CF decoding is overwriting dtype on variable 'KMT'\n",
      "  .format(name))\n",
      "/Users/holivarez/anaconda3/lib/python3.6/site-packages/xarray/conventions.py:313: UserWarning: CF decoding is overwriting dtype on variable 'KMU'\n",
      "  .format(name))\n",
      "/Users/holivarez/anaconda3/lib/python3.6/site-packages/xarray/conventions.py:313: UserWarning: CF decoding is overwriting dtype on variable 'REGION_MASK'\n",
      "  .format(name))\n"
     ]
    },
    {
     "name": "stdout",
     "output_type": "stream",
     "text": [
      "15\n"
     ]
    },
    {
     "name": "stderr",
     "output_type": "stream",
     "text": [
      "/Users/holivarez/anaconda3/lib/python3.6/site-packages/xarray/conventions.py:313: UserWarning: CF decoding is overwriting dtype on variable 'KMT'\n",
      "  .format(name))\n",
      "/Users/holivarez/anaconda3/lib/python3.6/site-packages/xarray/conventions.py:313: UserWarning: CF decoding is overwriting dtype on variable 'KMU'\n",
      "  .format(name))\n",
      "/Users/holivarez/anaconda3/lib/python3.6/site-packages/xarray/conventions.py:313: UserWarning: CF decoding is overwriting dtype on variable 'REGION_MASK'\n",
      "  .format(name))\n",
      "/Users/holivarez/anaconda3/lib/python3.6/site-packages/xarray/conventions.py:313: UserWarning: CF decoding is overwriting dtype on variable 'moc_components'\n",
      "  .format(name))\n",
      "/Users/holivarez/anaconda3/lib/python3.6/site-packages/xarray/conventions.py:313: UserWarning: CF decoding is overwriting dtype on variable 'transport_components'\n",
      "  .format(name))\n",
      "/Users/holivarez/anaconda3/lib/python3.6/site-packages/xarray/conventions.py:313: UserWarning: CF decoding is overwriting dtype on variable 'transport_regions'\n",
      "  .format(name))\n"
     ]
    },
    {
     "name": "stdout",
     "output_type": "stream",
     "text": [
      "16\n"
     ]
    },
    {
     "name": "stderr",
     "output_type": "stream",
     "text": [
      "/Users/holivarez/anaconda3/lib/python3.6/site-packages/xarray/conventions.py:313: UserWarning: CF decoding is overwriting dtype on variable 'KMT'\n",
      "  .format(name))\n",
      "/Users/holivarez/anaconda3/lib/python3.6/site-packages/xarray/conventions.py:313: UserWarning: CF decoding is overwriting dtype on variable 'KMU'\n",
      "  .format(name))\n",
      "/Users/holivarez/anaconda3/lib/python3.6/site-packages/xarray/conventions.py:313: UserWarning: CF decoding is overwriting dtype on variable 'REGION_MASK'\n",
      "  .format(name))\n",
      "/Users/holivarez/anaconda3/lib/python3.6/site-packages/xarray/conventions.py:313: UserWarning: CF decoding is overwriting dtype on variable 'moc_components'\n",
      "  .format(name))\n",
      "/Users/holivarez/anaconda3/lib/python3.6/site-packages/xarray/conventions.py:313: UserWarning: CF decoding is overwriting dtype on variable 'transport_components'\n",
      "  .format(name))\n",
      "/Users/holivarez/anaconda3/lib/python3.6/site-packages/xarray/conventions.py:313: UserWarning: CF decoding is overwriting dtype on variable 'transport_regions'\n",
      "  .format(name))\n"
     ]
    },
    {
     "name": "stdout",
     "output_type": "stream",
     "text": [
      "17\n"
     ]
    },
    {
     "name": "stderr",
     "output_type": "stream",
     "text": [
      "/Users/holivarez/anaconda3/lib/python3.6/site-packages/xarray/conventions.py:313: UserWarning: CF decoding is overwriting dtype on variable 'moc_components'\n",
      "  .format(name))\n",
      "/Users/holivarez/anaconda3/lib/python3.6/site-packages/xarray/conventions.py:313: UserWarning: CF decoding is overwriting dtype on variable 'transport_components'\n",
      "  .format(name))\n",
      "/Users/holivarez/anaconda3/lib/python3.6/site-packages/xarray/conventions.py:313: UserWarning: CF decoding is overwriting dtype on variable 'transport_regions'\n",
      "  .format(name))\n",
      "/Users/holivarez/anaconda3/lib/python3.6/site-packages/xarray/conventions.py:313: UserWarning: CF decoding is overwriting dtype on variable 'KMT'\n",
      "  .format(name))\n",
      "/Users/holivarez/anaconda3/lib/python3.6/site-packages/xarray/conventions.py:313: UserWarning: CF decoding is overwriting dtype on variable 'KMU'\n",
      "  .format(name))\n",
      "/Users/holivarez/anaconda3/lib/python3.6/site-packages/xarray/conventions.py:313: UserWarning: CF decoding is overwriting dtype on variable 'REGION_MASK'\n",
      "  .format(name))\n"
     ]
    },
    {
     "name": "stdout",
     "output_type": "stream",
     "text": [
      "18\n"
     ]
    },
    {
     "name": "stderr",
     "output_type": "stream",
     "text": [
      "/Users/holivarez/anaconda3/lib/python3.6/site-packages/xarray/conventions.py:313: UserWarning: CF decoding is overwriting dtype on variable 'moc_components'\n",
      "  .format(name))\n",
      "/Users/holivarez/anaconda3/lib/python3.6/site-packages/xarray/conventions.py:313: UserWarning: CF decoding is overwriting dtype on variable 'transport_components'\n",
      "  .format(name))\n",
      "/Users/holivarez/anaconda3/lib/python3.6/site-packages/xarray/conventions.py:313: UserWarning: CF decoding is overwriting dtype on variable 'transport_regions'\n",
      "  .format(name))\n",
      "/Users/holivarez/anaconda3/lib/python3.6/site-packages/xarray/conventions.py:313: UserWarning: CF decoding is overwriting dtype on variable 'KMT'\n",
      "  .format(name))\n",
      "/Users/holivarez/anaconda3/lib/python3.6/site-packages/xarray/conventions.py:313: UserWarning: CF decoding is overwriting dtype on variable 'KMU'\n",
      "  .format(name))\n",
      "/Users/holivarez/anaconda3/lib/python3.6/site-packages/xarray/conventions.py:313: UserWarning: CF decoding is overwriting dtype on variable 'REGION_MASK'\n",
      "  .format(name))\n"
     ]
    },
    {
     "name": "stdout",
     "output_type": "stream",
     "text": [
      "19\n"
     ]
    },
    {
     "name": "stderr",
     "output_type": "stream",
     "text": [
      "/Users/holivarez/anaconda3/lib/python3.6/site-packages/xarray/conventions.py:313: UserWarning: CF decoding is overwriting dtype on variable 'moc_components'\n",
      "  .format(name))\n",
      "/Users/holivarez/anaconda3/lib/python3.6/site-packages/xarray/conventions.py:313: UserWarning: CF decoding is overwriting dtype on variable 'transport_components'\n",
      "  .format(name))\n",
      "/Users/holivarez/anaconda3/lib/python3.6/site-packages/xarray/conventions.py:313: UserWarning: CF decoding is overwriting dtype on variable 'transport_regions'\n",
      "  .format(name))\n",
      "/Users/holivarez/anaconda3/lib/python3.6/site-packages/xarray/conventions.py:313: UserWarning: CF decoding is overwriting dtype on variable 'KMT'\n",
      "  .format(name))\n",
      "/Users/holivarez/anaconda3/lib/python3.6/site-packages/xarray/conventions.py:313: UserWarning: CF decoding is overwriting dtype on variable 'KMU'\n",
      "  .format(name))\n",
      "/Users/holivarez/anaconda3/lib/python3.6/site-packages/xarray/conventions.py:313: UserWarning: CF decoding is overwriting dtype on variable 'REGION_MASK'\n",
      "  .format(name))\n"
     ]
    },
    {
     "name": "stdout",
     "output_type": "stream",
     "text": [
      "20\n"
     ]
    },
    {
     "name": "stderr",
     "output_type": "stream",
     "text": [
      "/Users/holivarez/anaconda3/lib/python3.6/site-packages/xarray/conventions.py:313: UserWarning: CF decoding is overwriting dtype on variable 'moc_components'\n",
      "  .format(name))\n",
      "/Users/holivarez/anaconda3/lib/python3.6/site-packages/xarray/conventions.py:313: UserWarning: CF decoding is overwriting dtype on variable 'transport_components'\n",
      "  .format(name))\n",
      "/Users/holivarez/anaconda3/lib/python3.6/site-packages/xarray/conventions.py:313: UserWarning: CF decoding is overwriting dtype on variable 'transport_regions'\n",
      "  .format(name))\n",
      "/Users/holivarez/anaconda3/lib/python3.6/site-packages/xarray/conventions.py:313: UserWarning: CF decoding is overwriting dtype on variable 'KMT'\n",
      "  .format(name))\n",
      "/Users/holivarez/anaconda3/lib/python3.6/site-packages/xarray/conventions.py:313: UserWarning: CF decoding is overwriting dtype on variable 'KMU'\n",
      "  .format(name))\n",
      "/Users/holivarez/anaconda3/lib/python3.6/site-packages/xarray/conventions.py:313: UserWarning: CF decoding is overwriting dtype on variable 'REGION_MASK'\n",
      "  .format(name))\n"
     ]
    },
    {
     "name": "stdout",
     "output_type": "stream",
     "text": [
      "21\n"
     ]
    },
    {
     "name": "stderr",
     "output_type": "stream",
     "text": [
      "/Users/holivarez/anaconda3/lib/python3.6/site-packages/xarray/conventions.py:313: UserWarning: CF decoding is overwriting dtype on variable 'moc_components'\n",
      "  .format(name))\n",
      "/Users/holivarez/anaconda3/lib/python3.6/site-packages/xarray/conventions.py:313: UserWarning: CF decoding is overwriting dtype on variable 'transport_components'\n",
      "  .format(name))\n",
      "/Users/holivarez/anaconda3/lib/python3.6/site-packages/xarray/conventions.py:313: UserWarning: CF decoding is overwriting dtype on variable 'transport_regions'\n",
      "  .format(name))\n",
      "/Users/holivarez/anaconda3/lib/python3.6/site-packages/xarray/conventions.py:313: UserWarning: CF decoding is overwriting dtype on variable 'KMT'\n",
      "  .format(name))\n",
      "/Users/holivarez/anaconda3/lib/python3.6/site-packages/xarray/conventions.py:313: UserWarning: CF decoding is overwriting dtype on variable 'KMU'\n",
      "  .format(name))\n",
      "/Users/holivarez/anaconda3/lib/python3.6/site-packages/xarray/conventions.py:313: UserWarning: CF decoding is overwriting dtype on variable 'REGION_MASK'\n",
      "  .format(name))\n"
     ]
    },
    {
     "name": "stdout",
     "output_type": "stream",
     "text": [
      "22\n"
     ]
    },
    {
     "name": "stderr",
     "output_type": "stream",
     "text": [
      "/Users/holivarez/anaconda3/lib/python3.6/site-packages/xarray/conventions.py:313: UserWarning: CF decoding is overwriting dtype on variable 'moc_components'\n",
      "  .format(name))\n",
      "/Users/holivarez/anaconda3/lib/python3.6/site-packages/xarray/conventions.py:313: UserWarning: CF decoding is overwriting dtype on variable 'transport_components'\n",
      "  .format(name))\n",
      "/Users/holivarez/anaconda3/lib/python3.6/site-packages/xarray/conventions.py:313: UserWarning: CF decoding is overwriting dtype on variable 'transport_regions'\n",
      "  .format(name))\n",
      "/Users/holivarez/anaconda3/lib/python3.6/site-packages/xarray/conventions.py:313: UserWarning: CF decoding is overwriting dtype on variable 'KMT'\n",
      "  .format(name))\n",
      "/Users/holivarez/anaconda3/lib/python3.6/site-packages/xarray/conventions.py:313: UserWarning: CF decoding is overwriting dtype on variable 'KMU'\n",
      "  .format(name))\n",
      "/Users/holivarez/anaconda3/lib/python3.6/site-packages/xarray/conventions.py:313: UserWarning: CF decoding is overwriting dtype on variable 'REGION_MASK'\n",
      "  .format(name))\n"
     ]
    },
    {
     "name": "stdout",
     "output_type": "stream",
     "text": [
      "23\n"
     ]
    },
    {
     "name": "stderr",
     "output_type": "stream",
     "text": [
      "/Users/holivarez/anaconda3/lib/python3.6/site-packages/xarray/conventions.py:313: UserWarning: CF decoding is overwriting dtype on variable 'moc_components'\n",
      "  .format(name))\n",
      "/Users/holivarez/anaconda3/lib/python3.6/site-packages/xarray/conventions.py:313: UserWarning: CF decoding is overwriting dtype on variable 'transport_components'\n",
      "  .format(name))\n",
      "/Users/holivarez/anaconda3/lib/python3.6/site-packages/xarray/conventions.py:313: UserWarning: CF decoding is overwriting dtype on variable 'transport_regions'\n",
      "  .format(name))\n",
      "/Users/holivarez/anaconda3/lib/python3.6/site-packages/xarray/conventions.py:313: UserWarning: CF decoding is overwriting dtype on variable 'KMT'\n",
      "  .format(name))\n",
      "/Users/holivarez/anaconda3/lib/python3.6/site-packages/xarray/conventions.py:313: UserWarning: CF decoding is overwriting dtype on variable 'KMU'\n",
      "  .format(name))\n",
      "/Users/holivarez/anaconda3/lib/python3.6/site-packages/xarray/conventions.py:313: UserWarning: CF decoding is overwriting dtype on variable 'REGION_MASK'\n",
      "  .format(name))\n"
     ]
    },
    {
     "name": "stdout",
     "output_type": "stream",
     "text": [
      "24\n"
     ]
    },
    {
     "name": "stderr",
     "output_type": "stream",
     "text": [
      "/Users/holivarez/anaconda3/lib/python3.6/site-packages/xarray/conventions.py:313: UserWarning: CF decoding is overwriting dtype on variable 'moc_components'\n",
      "  .format(name))\n",
      "/Users/holivarez/anaconda3/lib/python3.6/site-packages/xarray/conventions.py:313: UserWarning: CF decoding is overwriting dtype on variable 'transport_components'\n",
      "  .format(name))\n",
      "/Users/holivarez/anaconda3/lib/python3.6/site-packages/xarray/conventions.py:313: UserWarning: CF decoding is overwriting dtype on variable 'transport_regions'\n",
      "  .format(name))\n",
      "/Users/holivarez/anaconda3/lib/python3.6/site-packages/xarray/conventions.py:313: UserWarning: CF decoding is overwriting dtype on variable 'KMT'\n",
      "  .format(name))\n",
      "/Users/holivarez/anaconda3/lib/python3.6/site-packages/xarray/conventions.py:313: UserWarning: CF decoding is overwriting dtype on variable 'KMU'\n",
      "  .format(name))\n",
      "/Users/holivarez/anaconda3/lib/python3.6/site-packages/xarray/conventions.py:313: UserWarning: CF decoding is overwriting dtype on variable 'REGION_MASK'\n",
      "  .format(name))\n"
     ]
    },
    {
     "name": "stdout",
     "output_type": "stream",
     "text": [
      "25\n"
     ]
    },
    {
     "name": "stderr",
     "output_type": "stream",
     "text": [
      "/Users/holivarez/anaconda3/lib/python3.6/site-packages/xarray/conventions.py:313: UserWarning: CF decoding is overwriting dtype on variable 'moc_components'\n",
      "  .format(name))\n",
      "/Users/holivarez/anaconda3/lib/python3.6/site-packages/xarray/conventions.py:313: UserWarning: CF decoding is overwriting dtype on variable 'transport_components'\n",
      "  .format(name))\n",
      "/Users/holivarez/anaconda3/lib/python3.6/site-packages/xarray/conventions.py:313: UserWarning: CF decoding is overwriting dtype on variable 'transport_regions'\n",
      "  .format(name))\n",
      "/Users/holivarez/anaconda3/lib/python3.6/site-packages/xarray/conventions.py:313: UserWarning: CF decoding is overwriting dtype on variable 'KMT'\n",
      "  .format(name))\n",
      "/Users/holivarez/anaconda3/lib/python3.6/site-packages/xarray/conventions.py:313: UserWarning: CF decoding is overwriting dtype on variable 'KMU'\n",
      "  .format(name))\n",
      "/Users/holivarez/anaconda3/lib/python3.6/site-packages/xarray/conventions.py:313: UserWarning: CF decoding is overwriting dtype on variable 'REGION_MASK'\n",
      "  .format(name))\n"
     ]
    },
    {
     "name": "stdout",
     "output_type": "stream",
     "text": [
      "26\n"
     ]
    },
    {
     "name": "stderr",
     "output_type": "stream",
     "text": [
      "/Users/holivarez/anaconda3/lib/python3.6/site-packages/xarray/conventions.py:313: UserWarning: CF decoding is overwriting dtype on variable 'KMT'\n",
      "  .format(name))\n",
      "/Users/holivarez/anaconda3/lib/python3.6/site-packages/xarray/conventions.py:313: UserWarning: CF decoding is overwriting dtype on variable 'KMU'\n",
      "  .format(name))\n",
      "/Users/holivarez/anaconda3/lib/python3.6/site-packages/xarray/conventions.py:313: UserWarning: CF decoding is overwriting dtype on variable 'REGION_MASK'\n",
      "  .format(name))\n",
      "/Users/holivarez/anaconda3/lib/python3.6/site-packages/xarray/conventions.py:313: UserWarning: CF decoding is overwriting dtype on variable 'moc_components'\n",
      "  .format(name))\n",
      "/Users/holivarez/anaconda3/lib/python3.6/site-packages/xarray/conventions.py:313: UserWarning: CF decoding is overwriting dtype on variable 'transport_components'\n",
      "  .format(name))\n",
      "/Users/holivarez/anaconda3/lib/python3.6/site-packages/xarray/conventions.py:313: UserWarning: CF decoding is overwriting dtype on variable 'transport_regions'\n",
      "  .format(name))\n"
     ]
    },
    {
     "name": "stdout",
     "output_type": "stream",
     "text": [
      "27\n"
     ]
    },
    {
     "name": "stderr",
     "output_type": "stream",
     "text": [
      "/Users/holivarez/anaconda3/lib/python3.6/site-packages/xarray/conventions.py:313: UserWarning: CF decoding is overwriting dtype on variable 'moc_components'\n",
      "  .format(name))\n",
      "/Users/holivarez/anaconda3/lib/python3.6/site-packages/xarray/conventions.py:313: UserWarning: CF decoding is overwriting dtype on variable 'transport_components'\n",
      "  .format(name))\n",
      "/Users/holivarez/anaconda3/lib/python3.6/site-packages/xarray/conventions.py:313: UserWarning: CF decoding is overwriting dtype on variable 'transport_regions'\n",
      "  .format(name))\n",
      "/Users/holivarez/anaconda3/lib/python3.6/site-packages/xarray/conventions.py:313: UserWarning: CF decoding is overwriting dtype on variable 'KMT'\n",
      "  .format(name))\n",
      "/Users/holivarez/anaconda3/lib/python3.6/site-packages/xarray/conventions.py:313: UserWarning: CF decoding is overwriting dtype on variable 'KMU'\n",
      "  .format(name))\n",
      "/Users/holivarez/anaconda3/lib/python3.6/site-packages/xarray/conventions.py:313: UserWarning: CF decoding is overwriting dtype on variable 'REGION_MASK'\n",
      "  .format(name))\n"
     ]
    },
    {
     "name": "stdout",
     "output_type": "stream",
     "text": [
      "28\n"
     ]
    },
    {
     "name": "stderr",
     "output_type": "stream",
     "text": [
      "/Users/holivarez/anaconda3/lib/python3.6/site-packages/xarray/conventions.py:313: UserWarning: CF decoding is overwriting dtype on variable 'moc_components'\n",
      "  .format(name))\n",
      "/Users/holivarez/anaconda3/lib/python3.6/site-packages/xarray/conventions.py:313: UserWarning: CF decoding is overwriting dtype on variable 'transport_components'\n",
      "  .format(name))\n",
      "/Users/holivarez/anaconda3/lib/python3.6/site-packages/xarray/conventions.py:313: UserWarning: CF decoding is overwriting dtype on variable 'transport_regions'\n",
      "  .format(name))\n",
      "/Users/holivarez/anaconda3/lib/python3.6/site-packages/xarray/conventions.py:313: UserWarning: CF decoding is overwriting dtype on variable 'KMT'\n",
      "  .format(name))\n",
      "/Users/holivarez/anaconda3/lib/python3.6/site-packages/xarray/conventions.py:313: UserWarning: CF decoding is overwriting dtype on variable 'KMU'\n",
      "  .format(name))\n",
      "/Users/holivarez/anaconda3/lib/python3.6/site-packages/xarray/conventions.py:313: UserWarning: CF decoding is overwriting dtype on variable 'REGION_MASK'\n",
      "  .format(name))\n"
     ]
    },
    {
     "name": "stdout",
     "output_type": "stream",
     "text": [
      "29\n"
     ]
    },
    {
     "name": "stderr",
     "output_type": "stream",
     "text": [
      "/Users/holivarez/anaconda3/lib/python3.6/site-packages/xarray/conventions.py:313: UserWarning: CF decoding is overwriting dtype on variable 'moc_components'\n",
      "  .format(name))\n",
      "/Users/holivarez/anaconda3/lib/python3.6/site-packages/xarray/conventions.py:313: UserWarning: CF decoding is overwriting dtype on variable 'transport_components'\n",
      "  .format(name))\n",
      "/Users/holivarez/anaconda3/lib/python3.6/site-packages/xarray/conventions.py:313: UserWarning: CF decoding is overwriting dtype on variable 'transport_regions'\n",
      "  .format(name))\n",
      "/Users/holivarez/anaconda3/lib/python3.6/site-packages/xarray/conventions.py:313: UserWarning: CF decoding is overwriting dtype on variable 'KMT'\n",
      "  .format(name))\n",
      "/Users/holivarez/anaconda3/lib/python3.6/site-packages/xarray/conventions.py:313: UserWarning: CF decoding is overwriting dtype on variable 'KMU'\n",
      "  .format(name))\n",
      "/Users/holivarez/anaconda3/lib/python3.6/site-packages/xarray/conventions.py:313: UserWarning: CF decoding is overwriting dtype on variable 'REGION_MASK'\n",
      "  .format(name))\n"
     ]
    },
    {
     "name": "stdout",
     "output_type": "stream",
     "text": [
      "30\n"
     ]
    },
    {
     "name": "stderr",
     "output_type": "stream",
     "text": [
      "/Users/holivarez/anaconda3/lib/python3.6/site-packages/xarray/conventions.py:313: UserWarning: CF decoding is overwriting dtype on variable 'moc_components'\n",
      "  .format(name))\n",
      "/Users/holivarez/anaconda3/lib/python3.6/site-packages/xarray/conventions.py:313: UserWarning: CF decoding is overwriting dtype on variable 'transport_components'\n",
      "  .format(name))\n",
      "/Users/holivarez/anaconda3/lib/python3.6/site-packages/xarray/conventions.py:313: UserWarning: CF decoding is overwriting dtype on variable 'transport_regions'\n",
      "  .format(name))\n",
      "/Users/holivarez/anaconda3/lib/python3.6/site-packages/xarray/conventions.py:313: UserWarning: CF decoding is overwriting dtype on variable 'KMT'\n",
      "  .format(name))\n",
      "/Users/holivarez/anaconda3/lib/python3.6/site-packages/xarray/conventions.py:313: UserWarning: CF decoding is overwriting dtype on variable 'KMU'\n",
      "  .format(name))\n",
      "/Users/holivarez/anaconda3/lib/python3.6/site-packages/xarray/conventions.py:313: UserWarning: CF decoding is overwriting dtype on variable 'REGION_MASK'\n",
      "  .format(name))\n"
     ]
    },
    {
     "name": "stdout",
     "output_type": "stream",
     "text": [
      "31\n"
     ]
    },
    {
     "name": "stderr",
     "output_type": "stream",
     "text": [
      "/Users/holivarez/anaconda3/lib/python3.6/site-packages/xarray/conventions.py:313: UserWarning: CF decoding is overwriting dtype on variable 'moc_components'\n",
      "  .format(name))\n",
      "/Users/holivarez/anaconda3/lib/python3.6/site-packages/xarray/conventions.py:313: UserWarning: CF decoding is overwriting dtype on variable 'transport_components'\n",
      "  .format(name))\n",
      "/Users/holivarez/anaconda3/lib/python3.6/site-packages/xarray/conventions.py:313: UserWarning: CF decoding is overwriting dtype on variable 'transport_regions'\n",
      "  .format(name))\n",
      "/Users/holivarez/anaconda3/lib/python3.6/site-packages/xarray/conventions.py:313: UserWarning: CF decoding is overwriting dtype on variable 'KMT'\n",
      "  .format(name))\n",
      "/Users/holivarez/anaconda3/lib/python3.6/site-packages/xarray/conventions.py:313: UserWarning: CF decoding is overwriting dtype on variable 'KMU'\n",
      "  .format(name))\n",
      "/Users/holivarez/anaconda3/lib/python3.6/site-packages/xarray/conventions.py:313: UserWarning: CF decoding is overwriting dtype on variable 'REGION_MASK'\n",
      "  .format(name))\n"
     ]
    },
    {
     "name": "stdout",
     "output_type": "stream",
     "text": [
      "32\n"
     ]
    },
    {
     "name": "stderr",
     "output_type": "stream",
     "text": [
      "/Users/holivarez/anaconda3/lib/python3.6/site-packages/xarray/conventions.py:313: UserWarning: CF decoding is overwriting dtype on variable 'moc_components'\n",
      "  .format(name))\n",
      "/Users/holivarez/anaconda3/lib/python3.6/site-packages/xarray/conventions.py:313: UserWarning: CF decoding is overwriting dtype on variable 'transport_components'\n",
      "  .format(name))\n",
      "/Users/holivarez/anaconda3/lib/python3.6/site-packages/xarray/conventions.py:313: UserWarning: CF decoding is overwriting dtype on variable 'transport_regions'\n",
      "  .format(name))\n",
      "/Users/holivarez/anaconda3/lib/python3.6/site-packages/xarray/conventions.py:313: UserWarning: CF decoding is overwriting dtype on variable 'KMT'\n",
      "  .format(name))\n",
      "/Users/holivarez/anaconda3/lib/python3.6/site-packages/xarray/conventions.py:313: UserWarning: CF decoding is overwriting dtype on variable 'KMU'\n",
      "  .format(name))\n",
      "/Users/holivarez/anaconda3/lib/python3.6/site-packages/xarray/conventions.py:313: UserWarning: CF decoding is overwriting dtype on variable 'REGION_MASK'\n",
      "  .format(name))\n"
     ]
    },
    {
     "name": "stdout",
     "output_type": "stream",
     "text": [
      "33\n"
     ]
    },
    {
     "name": "stderr",
     "output_type": "stream",
     "text": [
      "/Users/holivarez/anaconda3/lib/python3.6/site-packages/xarray/conventions.py:313: UserWarning: CF decoding is overwriting dtype on variable 'moc_components'\n",
      "  .format(name))\n",
      "/Users/holivarez/anaconda3/lib/python3.6/site-packages/xarray/conventions.py:313: UserWarning: CF decoding is overwriting dtype on variable 'transport_components'\n",
      "  .format(name))\n",
      "/Users/holivarez/anaconda3/lib/python3.6/site-packages/xarray/conventions.py:313: UserWarning: CF decoding is overwriting dtype on variable 'transport_regions'\n",
      "  .format(name))\n",
      "/Users/holivarez/anaconda3/lib/python3.6/site-packages/xarray/conventions.py:313: UserWarning: CF decoding is overwriting dtype on variable 'KMT'\n",
      "  .format(name))\n",
      "/Users/holivarez/anaconda3/lib/python3.6/site-packages/xarray/conventions.py:313: UserWarning: CF decoding is overwriting dtype on variable 'KMU'\n",
      "  .format(name))\n",
      "/Users/holivarez/anaconda3/lib/python3.6/site-packages/xarray/conventions.py:313: UserWarning: CF decoding is overwriting dtype on variable 'REGION_MASK'\n",
      "  .format(name))\n"
     ]
    },
    {
     "name": "stdout",
     "output_type": "stream",
     "text": [
      "34\n"
     ]
    },
    {
     "name": "stderr",
     "output_type": "stream",
     "text": [
      "/Users/holivarez/anaconda3/lib/python3.6/site-packages/xarray/conventions.py:313: UserWarning: CF decoding is overwriting dtype on variable 'moc_components'\n",
      "  .format(name))\n",
      "/Users/holivarez/anaconda3/lib/python3.6/site-packages/xarray/conventions.py:313: UserWarning: CF decoding is overwriting dtype on variable 'transport_components'\n",
      "  .format(name))\n",
      "/Users/holivarez/anaconda3/lib/python3.6/site-packages/xarray/conventions.py:313: UserWarning: CF decoding is overwriting dtype on variable 'transport_regions'\n",
      "  .format(name))\n",
      "/Users/holivarez/anaconda3/lib/python3.6/site-packages/xarray/conventions.py:313: UserWarning: CF decoding is overwriting dtype on variable 'KMT'\n",
      "  .format(name))\n",
      "/Users/holivarez/anaconda3/lib/python3.6/site-packages/xarray/conventions.py:313: UserWarning: CF decoding is overwriting dtype on variable 'KMU'\n",
      "  .format(name))\n",
      "/Users/holivarez/anaconda3/lib/python3.6/site-packages/xarray/conventions.py:313: UserWarning: CF decoding is overwriting dtype on variable 'REGION_MASK'\n",
      "  .format(name))\n"
     ]
    },
    {
     "name": "stdout",
     "output_type": "stream",
     "text": [
      "35\n"
     ]
    },
    {
     "name": "stderr",
     "output_type": "stream",
     "text": [
      "/Users/holivarez/anaconda3/lib/python3.6/site-packages/xarray/conventions.py:313: UserWarning: CF decoding is overwriting dtype on variable 'moc_components'\n",
      "  .format(name))\n",
      "/Users/holivarez/anaconda3/lib/python3.6/site-packages/xarray/conventions.py:313: UserWarning: CF decoding is overwriting dtype on variable 'transport_components'\n",
      "  .format(name))\n",
      "/Users/holivarez/anaconda3/lib/python3.6/site-packages/xarray/conventions.py:313: UserWarning: CF decoding is overwriting dtype on variable 'transport_regions'\n",
      "  .format(name))\n",
      "/Users/holivarez/anaconda3/lib/python3.6/site-packages/xarray/conventions.py:313: UserWarning: CF decoding is overwriting dtype on variable 'KMT'\n",
      "  .format(name))\n",
      "/Users/holivarez/anaconda3/lib/python3.6/site-packages/xarray/conventions.py:313: UserWarning: CF decoding is overwriting dtype on variable 'KMU'\n",
      "  .format(name))\n",
      "/Users/holivarez/anaconda3/lib/python3.6/site-packages/xarray/conventions.py:313: UserWarning: CF decoding is overwriting dtype on variable 'REGION_MASK'\n",
      "  .format(name))\n"
     ]
    }
   ],
   "source": [
    "#One year pre-eruption\n",
    "levels=np.arange(7.8,8.7,0.1)\n",
    "beginningdate=datetime.date(1962,3,1) #to choose a start date within the dataset (year,month,date)\n",
    "enddate=datetime.date(1963,2,28) #to choose an end date within the dataset (year,month,date)\n",
    "\n",
    "#mytime=ds[\"time\"].sel(time=slice(beginningdate,enddate))\n",
    "#print(len(mytime))\n",
    "\n",
    "for ii,ff in enumerate(filenames):\n",
    "    print(ii)\n",
    "    \n",
    "    ds=xarray.open_dataset(ff,decode_times=False) #do not alter\n",
    "    ds['time'].values=ds['time'].values-d1800-15 #use this line and below anytime opening a dataset for ocean\n",
    "    ds['time'].attrs['units']='days since 1800-01-01 00:00:00'\n",
    "    ds['time_bound'].attrs['units']='days since 1800-01-01 00:00:00'\n",
    "    ds['time_bound'].values=ds['time_bound'].values-d1800\n",
    "    ds=xarray.decode_cf(ds,decode_times=True)\n",
    "    #print(ds)\n",
    "    \n",
    "    PH_ALT_CO2=ds['PH_ALT_CO2'].sel(time=slice(beginningdate,enddate))\n",
    "    #isel(time=32) #isel will call/pull a single piece of data (ex. time equals 32); used as an example.\n",
    "    if ii==0:\n",
    "        a,b,c=np.shape(PH_ALT_CO2)\n",
    "        testarray=np.empty((len(filenames),a,b,c)) #np.shape will pull LAT by LONG\n",
    "        #print(np.shape(testarray))\n",
    "    testarray[ii,:,:,:]=PH_ALT_CO2.values #ii is pulling each 'slice,' colons are all LAT and all LONG\n",
    "    \n",
    "\n",
    "preeruption_ensemblemean=np.mean(testarray,axis=0) #takes the mean but only over one dimension\n",
    "# axis=0 is one dimension, axis=1 is two dimensions, axis=2 is three dimensions\n",
    "\n",
    "# plt.contourf(preeruption_ensemblemean,levels,cmap=plt.cm.rainbow)\n",
    "#              #another option: cmap=plt.cm.winter\n",
    "\n",
    "# plt.xticks([]) #removes x-axis ticks\n",
    "# plt.yticks([]) #removes y-axis ticks\n",
    "\n",
    "# plt.colorbar()\n",
    "# plt.tight_layout()"
   ]
  },
  {
   "cell_type": "code",
   "execution_count": 6,
   "metadata": {},
   "outputs": [
    {
     "name": "stdout",
     "output_type": "stream",
     "text": [
      "0\n"
     ]
    },
    {
     "name": "stderr",
     "output_type": "stream",
     "text": [
      "/Users/holivarez/anaconda3/lib/python3.6/site-packages/xarray/conventions.py:313: UserWarning: CF decoding is overwriting dtype on variable 'KMT'\n",
      "  .format(name))\n",
      "/Users/holivarez/anaconda3/lib/python3.6/site-packages/xarray/conventions.py:313: UserWarning: CF decoding is overwriting dtype on variable 'KMU'\n",
      "  .format(name))\n",
      "/Users/holivarez/anaconda3/lib/python3.6/site-packages/xarray/conventions.py:313: UserWarning: CF decoding is overwriting dtype on variable 'REGION_MASK'\n",
      "  .format(name))\n",
      "/Users/holivarez/anaconda3/lib/python3.6/site-packages/xarray/conventions.py:313: UserWarning: CF decoding is overwriting dtype on variable 'moc_components'\n",
      "  .format(name))\n",
      "/Users/holivarez/anaconda3/lib/python3.6/site-packages/xarray/conventions.py:313: UserWarning: CF decoding is overwriting dtype on variable 'transport_components'\n",
      "  .format(name))\n",
      "/Users/holivarez/anaconda3/lib/python3.6/site-packages/xarray/conventions.py:313: UserWarning: CF decoding is overwriting dtype on variable 'transport_regions'\n",
      "  .format(name))\n"
     ]
    },
    {
     "name": "stdout",
     "output_type": "stream",
     "text": [
      "1\n"
     ]
    },
    {
     "name": "stderr",
     "output_type": "stream",
     "text": [
      "/Users/holivarez/anaconda3/lib/python3.6/site-packages/xarray/conventions.py:313: UserWarning: CF decoding is overwriting dtype on variable 'KMT'\n",
      "  .format(name))\n",
      "/Users/holivarez/anaconda3/lib/python3.6/site-packages/xarray/conventions.py:313: UserWarning: CF decoding is overwriting dtype on variable 'KMU'\n",
      "  .format(name))\n",
      "/Users/holivarez/anaconda3/lib/python3.6/site-packages/xarray/conventions.py:313: UserWarning: CF decoding is overwriting dtype on variable 'REGION_MASK'\n",
      "  .format(name))\n",
      "/Users/holivarez/anaconda3/lib/python3.6/site-packages/xarray/conventions.py:313: UserWarning: CF decoding is overwriting dtype on variable 'moc_components'\n",
      "  .format(name))\n",
      "/Users/holivarez/anaconda3/lib/python3.6/site-packages/xarray/conventions.py:313: UserWarning: CF decoding is overwriting dtype on variable 'transport_components'\n",
      "  .format(name))\n",
      "/Users/holivarez/anaconda3/lib/python3.6/site-packages/xarray/conventions.py:313: UserWarning: CF decoding is overwriting dtype on variable 'transport_regions'\n",
      "  .format(name))\n"
     ]
    },
    {
     "name": "stdout",
     "output_type": "stream",
     "text": [
      "2\n"
     ]
    },
    {
     "name": "stderr",
     "output_type": "stream",
     "text": [
      "/Users/holivarez/anaconda3/lib/python3.6/site-packages/xarray/conventions.py:313: UserWarning: CF decoding is overwriting dtype on variable 'KMT'\n",
      "  .format(name))\n",
      "/Users/holivarez/anaconda3/lib/python3.6/site-packages/xarray/conventions.py:313: UserWarning: CF decoding is overwriting dtype on variable 'KMU'\n",
      "  .format(name))\n",
      "/Users/holivarez/anaconda3/lib/python3.6/site-packages/xarray/conventions.py:313: UserWarning: CF decoding is overwriting dtype on variable 'REGION_MASK'\n",
      "  .format(name))\n",
      "/Users/holivarez/anaconda3/lib/python3.6/site-packages/xarray/conventions.py:313: UserWarning: CF decoding is overwriting dtype on variable 'moc_components'\n",
      "  .format(name))\n",
      "/Users/holivarez/anaconda3/lib/python3.6/site-packages/xarray/conventions.py:313: UserWarning: CF decoding is overwriting dtype on variable 'transport_components'\n",
      "  .format(name))\n",
      "/Users/holivarez/anaconda3/lib/python3.6/site-packages/xarray/conventions.py:313: UserWarning: CF decoding is overwriting dtype on variable 'transport_regions'\n",
      "  .format(name))\n"
     ]
    },
    {
     "name": "stdout",
     "output_type": "stream",
     "text": [
      "3\n"
     ]
    },
    {
     "name": "stderr",
     "output_type": "stream",
     "text": [
      "/Users/holivarez/anaconda3/lib/python3.6/site-packages/xarray/conventions.py:313: UserWarning: CF decoding is overwriting dtype on variable 'KMT'\n",
      "  .format(name))\n",
      "/Users/holivarez/anaconda3/lib/python3.6/site-packages/xarray/conventions.py:313: UserWarning: CF decoding is overwriting dtype on variable 'KMU'\n",
      "  .format(name))\n",
      "/Users/holivarez/anaconda3/lib/python3.6/site-packages/xarray/conventions.py:313: UserWarning: CF decoding is overwriting dtype on variable 'REGION_MASK'\n",
      "  .format(name))\n",
      "/Users/holivarez/anaconda3/lib/python3.6/site-packages/xarray/conventions.py:313: UserWarning: CF decoding is overwriting dtype on variable 'moc_components'\n",
      "  .format(name))\n",
      "/Users/holivarez/anaconda3/lib/python3.6/site-packages/xarray/conventions.py:313: UserWarning: CF decoding is overwriting dtype on variable 'transport_components'\n",
      "  .format(name))\n",
      "/Users/holivarez/anaconda3/lib/python3.6/site-packages/xarray/conventions.py:313: UserWarning: CF decoding is overwriting dtype on variable 'transport_regions'\n",
      "  .format(name))\n"
     ]
    },
    {
     "name": "stdout",
     "output_type": "stream",
     "text": [
      "4\n"
     ]
    },
    {
     "name": "stderr",
     "output_type": "stream",
     "text": [
      "/Users/holivarez/anaconda3/lib/python3.6/site-packages/xarray/conventions.py:313: UserWarning: CF decoding is overwriting dtype on variable 'KMT'\n",
      "  .format(name))\n",
      "/Users/holivarez/anaconda3/lib/python3.6/site-packages/xarray/conventions.py:313: UserWarning: CF decoding is overwriting dtype on variable 'KMU'\n",
      "  .format(name))\n",
      "/Users/holivarez/anaconda3/lib/python3.6/site-packages/xarray/conventions.py:313: UserWarning: CF decoding is overwriting dtype on variable 'REGION_MASK'\n",
      "  .format(name))\n",
      "/Users/holivarez/anaconda3/lib/python3.6/site-packages/xarray/conventions.py:313: UserWarning: CF decoding is overwriting dtype on variable 'moc_components'\n",
      "  .format(name))\n",
      "/Users/holivarez/anaconda3/lib/python3.6/site-packages/xarray/conventions.py:313: UserWarning: CF decoding is overwriting dtype on variable 'transport_components'\n",
      "  .format(name))\n",
      "/Users/holivarez/anaconda3/lib/python3.6/site-packages/xarray/conventions.py:313: UserWarning: CF decoding is overwriting dtype on variable 'transport_regions'\n",
      "  .format(name))\n"
     ]
    },
    {
     "name": "stdout",
     "output_type": "stream",
     "text": [
      "5\n"
     ]
    },
    {
     "name": "stderr",
     "output_type": "stream",
     "text": [
      "/Users/holivarez/anaconda3/lib/python3.6/site-packages/xarray/conventions.py:313: UserWarning: CF decoding is overwriting dtype on variable 'KMT'\n",
      "  .format(name))\n",
      "/Users/holivarez/anaconda3/lib/python3.6/site-packages/xarray/conventions.py:313: UserWarning: CF decoding is overwriting dtype on variable 'KMU'\n",
      "  .format(name))\n",
      "/Users/holivarez/anaconda3/lib/python3.6/site-packages/xarray/conventions.py:313: UserWarning: CF decoding is overwriting dtype on variable 'REGION_MASK'\n",
      "  .format(name))\n",
      "/Users/holivarez/anaconda3/lib/python3.6/site-packages/xarray/conventions.py:313: UserWarning: CF decoding is overwriting dtype on variable 'moc_components'\n",
      "  .format(name))\n",
      "/Users/holivarez/anaconda3/lib/python3.6/site-packages/xarray/conventions.py:313: UserWarning: CF decoding is overwriting dtype on variable 'transport_components'\n",
      "  .format(name))\n",
      "/Users/holivarez/anaconda3/lib/python3.6/site-packages/xarray/conventions.py:313: UserWarning: CF decoding is overwriting dtype on variable 'transport_regions'\n",
      "  .format(name))\n"
     ]
    },
    {
     "name": "stdout",
     "output_type": "stream",
     "text": [
      "6\n"
     ]
    },
    {
     "name": "stderr",
     "output_type": "stream",
     "text": [
      "/Users/holivarez/anaconda3/lib/python3.6/site-packages/xarray/conventions.py:313: UserWarning: CF decoding is overwriting dtype on variable 'KMT'\n",
      "  .format(name))\n",
      "/Users/holivarez/anaconda3/lib/python3.6/site-packages/xarray/conventions.py:313: UserWarning: CF decoding is overwriting dtype on variable 'KMU'\n",
      "  .format(name))\n",
      "/Users/holivarez/anaconda3/lib/python3.6/site-packages/xarray/conventions.py:313: UserWarning: CF decoding is overwriting dtype on variable 'REGION_MASK'\n",
      "  .format(name))\n",
      "/Users/holivarez/anaconda3/lib/python3.6/site-packages/xarray/conventions.py:313: UserWarning: CF decoding is overwriting dtype on variable 'moc_components'\n",
      "  .format(name))\n",
      "/Users/holivarez/anaconda3/lib/python3.6/site-packages/xarray/conventions.py:313: UserWarning: CF decoding is overwriting dtype on variable 'transport_components'\n",
      "  .format(name))\n",
      "/Users/holivarez/anaconda3/lib/python3.6/site-packages/xarray/conventions.py:313: UserWarning: CF decoding is overwriting dtype on variable 'transport_regions'\n",
      "  .format(name))\n"
     ]
    },
    {
     "name": "stdout",
     "output_type": "stream",
     "text": [
      "7\n"
     ]
    },
    {
     "name": "stderr",
     "output_type": "stream",
     "text": [
      "/Users/holivarez/anaconda3/lib/python3.6/site-packages/xarray/conventions.py:313: UserWarning: CF decoding is overwriting dtype on variable 'KMT'\n",
      "  .format(name))\n",
      "/Users/holivarez/anaconda3/lib/python3.6/site-packages/xarray/conventions.py:313: UserWarning: CF decoding is overwriting dtype on variable 'KMU'\n",
      "  .format(name))\n",
      "/Users/holivarez/anaconda3/lib/python3.6/site-packages/xarray/conventions.py:313: UserWarning: CF decoding is overwriting dtype on variable 'REGION_MASK'\n",
      "  .format(name))\n",
      "/Users/holivarez/anaconda3/lib/python3.6/site-packages/xarray/conventions.py:313: UserWarning: CF decoding is overwriting dtype on variable 'moc_components'\n",
      "  .format(name))\n",
      "/Users/holivarez/anaconda3/lib/python3.6/site-packages/xarray/conventions.py:313: UserWarning: CF decoding is overwriting dtype on variable 'transport_components'\n",
      "  .format(name))\n",
      "/Users/holivarez/anaconda3/lib/python3.6/site-packages/xarray/conventions.py:313: UserWarning: CF decoding is overwriting dtype on variable 'transport_regions'\n",
      "  .format(name))\n"
     ]
    },
    {
     "name": "stdout",
     "output_type": "stream",
     "text": [
      "8\n"
     ]
    },
    {
     "name": "stderr",
     "output_type": "stream",
     "text": [
      "/Users/holivarez/anaconda3/lib/python3.6/site-packages/xarray/conventions.py:313: UserWarning: CF decoding is overwriting dtype on variable 'KMT'\n",
      "  .format(name))\n",
      "/Users/holivarez/anaconda3/lib/python3.6/site-packages/xarray/conventions.py:313: UserWarning: CF decoding is overwriting dtype on variable 'KMU'\n",
      "  .format(name))\n",
      "/Users/holivarez/anaconda3/lib/python3.6/site-packages/xarray/conventions.py:313: UserWarning: CF decoding is overwriting dtype on variable 'REGION_MASK'\n",
      "  .format(name))\n",
      "/Users/holivarez/anaconda3/lib/python3.6/site-packages/xarray/conventions.py:313: UserWarning: CF decoding is overwriting dtype on variable 'moc_components'\n",
      "  .format(name))\n",
      "/Users/holivarez/anaconda3/lib/python3.6/site-packages/xarray/conventions.py:313: UserWarning: CF decoding is overwriting dtype on variable 'transport_components'\n",
      "  .format(name))\n",
      "/Users/holivarez/anaconda3/lib/python3.6/site-packages/xarray/conventions.py:313: UserWarning: CF decoding is overwriting dtype on variable 'transport_regions'\n",
      "  .format(name))\n"
     ]
    },
    {
     "name": "stdout",
     "output_type": "stream",
     "text": [
      "9\n"
     ]
    },
    {
     "name": "stderr",
     "output_type": "stream",
     "text": [
      "/Users/holivarez/anaconda3/lib/python3.6/site-packages/xarray/conventions.py:313: UserWarning: CF decoding is overwriting dtype on variable 'KMT'\n",
      "  .format(name))\n",
      "/Users/holivarez/anaconda3/lib/python3.6/site-packages/xarray/conventions.py:313: UserWarning: CF decoding is overwriting dtype on variable 'KMU'\n",
      "  .format(name))\n",
      "/Users/holivarez/anaconda3/lib/python3.6/site-packages/xarray/conventions.py:313: UserWarning: CF decoding is overwriting dtype on variable 'REGION_MASK'\n",
      "  .format(name))\n",
      "/Users/holivarez/anaconda3/lib/python3.6/site-packages/xarray/conventions.py:313: UserWarning: CF decoding is overwriting dtype on variable 'moc_components'\n",
      "  .format(name))\n",
      "/Users/holivarez/anaconda3/lib/python3.6/site-packages/xarray/conventions.py:313: UserWarning: CF decoding is overwriting dtype on variable 'transport_components'\n",
      "  .format(name))\n",
      "/Users/holivarez/anaconda3/lib/python3.6/site-packages/xarray/conventions.py:313: UserWarning: CF decoding is overwriting dtype on variable 'transport_regions'\n",
      "  .format(name))\n"
     ]
    },
    {
     "name": "stdout",
     "output_type": "stream",
     "text": [
      "10\n"
     ]
    },
    {
     "name": "stderr",
     "output_type": "stream",
     "text": [
      "/Users/holivarez/anaconda3/lib/python3.6/site-packages/xarray/conventions.py:313: UserWarning: CF decoding is overwriting dtype on variable 'KMT'\n",
      "  .format(name))\n",
      "/Users/holivarez/anaconda3/lib/python3.6/site-packages/xarray/conventions.py:313: UserWarning: CF decoding is overwriting dtype on variable 'KMU'\n",
      "  .format(name))\n",
      "/Users/holivarez/anaconda3/lib/python3.6/site-packages/xarray/conventions.py:313: UserWarning: CF decoding is overwriting dtype on variable 'REGION_MASK'\n",
      "  .format(name))\n",
      "/Users/holivarez/anaconda3/lib/python3.6/site-packages/xarray/conventions.py:313: UserWarning: CF decoding is overwriting dtype on variable 'moc_components'\n",
      "  .format(name))\n",
      "/Users/holivarez/anaconda3/lib/python3.6/site-packages/xarray/conventions.py:313: UserWarning: CF decoding is overwriting dtype on variable 'transport_components'\n",
      "  .format(name))\n",
      "/Users/holivarez/anaconda3/lib/python3.6/site-packages/xarray/conventions.py:313: UserWarning: CF decoding is overwriting dtype on variable 'transport_regions'\n",
      "  .format(name))\n"
     ]
    },
    {
     "name": "stdout",
     "output_type": "stream",
     "text": [
      "11\n"
     ]
    },
    {
     "name": "stderr",
     "output_type": "stream",
     "text": [
      "/Users/holivarez/anaconda3/lib/python3.6/site-packages/xarray/conventions.py:313: UserWarning: CF decoding is overwriting dtype on variable 'KMT'\n",
      "  .format(name))\n",
      "/Users/holivarez/anaconda3/lib/python3.6/site-packages/xarray/conventions.py:313: UserWarning: CF decoding is overwriting dtype on variable 'KMU'\n",
      "  .format(name))\n",
      "/Users/holivarez/anaconda3/lib/python3.6/site-packages/xarray/conventions.py:313: UserWarning: CF decoding is overwriting dtype on variable 'REGION_MASK'\n",
      "  .format(name))\n",
      "/Users/holivarez/anaconda3/lib/python3.6/site-packages/xarray/conventions.py:313: UserWarning: CF decoding is overwriting dtype on variable 'moc_components'\n",
      "  .format(name))\n",
      "/Users/holivarez/anaconda3/lib/python3.6/site-packages/xarray/conventions.py:313: UserWarning: CF decoding is overwriting dtype on variable 'transport_components'\n",
      "  .format(name))\n",
      "/Users/holivarez/anaconda3/lib/python3.6/site-packages/xarray/conventions.py:313: UserWarning: CF decoding is overwriting dtype on variable 'transport_regions'\n",
      "  .format(name))\n"
     ]
    },
    {
     "name": "stdout",
     "output_type": "stream",
     "text": [
      "12\n"
     ]
    },
    {
     "name": "stderr",
     "output_type": "stream",
     "text": [
      "/Users/holivarez/anaconda3/lib/python3.6/site-packages/xarray/conventions.py:313: UserWarning: CF decoding is overwriting dtype on variable 'KMT'\n",
      "  .format(name))\n",
      "/Users/holivarez/anaconda3/lib/python3.6/site-packages/xarray/conventions.py:313: UserWarning: CF decoding is overwriting dtype on variable 'KMU'\n",
      "  .format(name))\n",
      "/Users/holivarez/anaconda3/lib/python3.6/site-packages/xarray/conventions.py:313: UserWarning: CF decoding is overwriting dtype on variable 'REGION_MASK'\n",
      "  .format(name))\n",
      "/Users/holivarez/anaconda3/lib/python3.6/site-packages/xarray/conventions.py:313: UserWarning: CF decoding is overwriting dtype on variable 'moc_components'\n",
      "  .format(name))\n",
      "/Users/holivarez/anaconda3/lib/python3.6/site-packages/xarray/conventions.py:313: UserWarning: CF decoding is overwriting dtype on variable 'transport_components'\n",
      "  .format(name))\n",
      "/Users/holivarez/anaconda3/lib/python3.6/site-packages/xarray/conventions.py:313: UserWarning: CF decoding is overwriting dtype on variable 'transport_regions'\n",
      "  .format(name))\n"
     ]
    },
    {
     "name": "stdout",
     "output_type": "stream",
     "text": [
      "13\n"
     ]
    },
    {
     "name": "stderr",
     "output_type": "stream",
     "text": [
      "/Users/holivarez/anaconda3/lib/python3.6/site-packages/xarray/conventions.py:313: UserWarning: CF decoding is overwriting dtype on variable 'KMT'\n",
      "  .format(name))\n",
      "/Users/holivarez/anaconda3/lib/python3.6/site-packages/xarray/conventions.py:313: UserWarning: CF decoding is overwriting dtype on variable 'KMU'\n",
      "  .format(name))\n",
      "/Users/holivarez/anaconda3/lib/python3.6/site-packages/xarray/conventions.py:313: UserWarning: CF decoding is overwriting dtype on variable 'REGION_MASK'\n",
      "  .format(name))\n",
      "/Users/holivarez/anaconda3/lib/python3.6/site-packages/xarray/conventions.py:313: UserWarning: CF decoding is overwriting dtype on variable 'moc_components'\n",
      "  .format(name))\n",
      "/Users/holivarez/anaconda3/lib/python3.6/site-packages/xarray/conventions.py:313: UserWarning: CF decoding is overwriting dtype on variable 'transport_components'\n",
      "  .format(name))\n",
      "/Users/holivarez/anaconda3/lib/python3.6/site-packages/xarray/conventions.py:313: UserWarning: CF decoding is overwriting dtype on variable 'transport_regions'\n",
      "  .format(name))\n"
     ]
    },
    {
     "name": "stdout",
     "output_type": "stream",
     "text": [
      "14\n"
     ]
    },
    {
     "name": "stderr",
     "output_type": "stream",
     "text": [
      "/Users/holivarez/anaconda3/lib/python3.6/site-packages/xarray/conventions.py:313: UserWarning: CF decoding is overwriting dtype on variable 'moc_components'\n",
      "  .format(name))\n",
      "/Users/holivarez/anaconda3/lib/python3.6/site-packages/xarray/conventions.py:313: UserWarning: CF decoding is overwriting dtype on variable 'transport_components'\n",
      "  .format(name))\n",
      "/Users/holivarez/anaconda3/lib/python3.6/site-packages/xarray/conventions.py:313: UserWarning: CF decoding is overwriting dtype on variable 'transport_regions'\n",
      "  .format(name))\n",
      "/Users/holivarez/anaconda3/lib/python3.6/site-packages/xarray/conventions.py:313: UserWarning: CF decoding is overwriting dtype on variable 'KMT'\n",
      "  .format(name))\n",
      "/Users/holivarez/anaconda3/lib/python3.6/site-packages/xarray/conventions.py:313: UserWarning: CF decoding is overwriting dtype on variable 'KMU'\n",
      "  .format(name))\n",
      "/Users/holivarez/anaconda3/lib/python3.6/site-packages/xarray/conventions.py:313: UserWarning: CF decoding is overwriting dtype on variable 'REGION_MASK'\n",
      "  .format(name))\n"
     ]
    },
    {
     "name": "stdout",
     "output_type": "stream",
     "text": [
      "15\n"
     ]
    },
    {
     "name": "stderr",
     "output_type": "stream",
     "text": [
      "/Users/holivarez/anaconda3/lib/python3.6/site-packages/xarray/conventions.py:313: UserWarning: CF decoding is overwriting dtype on variable 'KMT'\n",
      "  .format(name))\n",
      "/Users/holivarez/anaconda3/lib/python3.6/site-packages/xarray/conventions.py:313: UserWarning: CF decoding is overwriting dtype on variable 'KMU'\n",
      "  .format(name))\n",
      "/Users/holivarez/anaconda3/lib/python3.6/site-packages/xarray/conventions.py:313: UserWarning: CF decoding is overwriting dtype on variable 'REGION_MASK'\n",
      "  .format(name))\n",
      "/Users/holivarez/anaconda3/lib/python3.6/site-packages/xarray/conventions.py:313: UserWarning: CF decoding is overwriting dtype on variable 'moc_components'\n",
      "  .format(name))\n",
      "/Users/holivarez/anaconda3/lib/python3.6/site-packages/xarray/conventions.py:313: UserWarning: CF decoding is overwriting dtype on variable 'transport_components'\n",
      "  .format(name))\n",
      "/Users/holivarez/anaconda3/lib/python3.6/site-packages/xarray/conventions.py:313: UserWarning: CF decoding is overwriting dtype on variable 'transport_regions'\n",
      "  .format(name))\n"
     ]
    },
    {
     "name": "stdout",
     "output_type": "stream",
     "text": [
      "16\n"
     ]
    },
    {
     "name": "stderr",
     "output_type": "stream",
     "text": [
      "/Users/holivarez/anaconda3/lib/python3.6/site-packages/xarray/conventions.py:313: UserWarning: CF decoding is overwriting dtype on variable 'KMT'\n",
      "  .format(name))\n",
      "/Users/holivarez/anaconda3/lib/python3.6/site-packages/xarray/conventions.py:313: UserWarning: CF decoding is overwriting dtype on variable 'KMU'\n",
      "  .format(name))\n",
      "/Users/holivarez/anaconda3/lib/python3.6/site-packages/xarray/conventions.py:313: UserWarning: CF decoding is overwriting dtype on variable 'REGION_MASK'\n",
      "  .format(name))\n",
      "/Users/holivarez/anaconda3/lib/python3.6/site-packages/xarray/conventions.py:313: UserWarning: CF decoding is overwriting dtype on variable 'moc_components'\n",
      "  .format(name))\n",
      "/Users/holivarez/anaconda3/lib/python3.6/site-packages/xarray/conventions.py:313: UserWarning: CF decoding is overwriting dtype on variable 'transport_components'\n",
      "  .format(name))\n",
      "/Users/holivarez/anaconda3/lib/python3.6/site-packages/xarray/conventions.py:313: UserWarning: CF decoding is overwriting dtype on variable 'transport_regions'\n",
      "  .format(name))\n"
     ]
    },
    {
     "name": "stdout",
     "output_type": "stream",
     "text": [
      "17\n"
     ]
    },
    {
     "name": "stderr",
     "output_type": "stream",
     "text": [
      "/Users/holivarez/anaconda3/lib/python3.6/site-packages/xarray/conventions.py:313: UserWarning: CF decoding is overwriting dtype on variable 'moc_components'\n",
      "  .format(name))\n",
      "/Users/holivarez/anaconda3/lib/python3.6/site-packages/xarray/conventions.py:313: UserWarning: CF decoding is overwriting dtype on variable 'transport_components'\n",
      "  .format(name))\n",
      "/Users/holivarez/anaconda3/lib/python3.6/site-packages/xarray/conventions.py:313: UserWarning: CF decoding is overwriting dtype on variable 'transport_regions'\n",
      "  .format(name))\n",
      "/Users/holivarez/anaconda3/lib/python3.6/site-packages/xarray/conventions.py:313: UserWarning: CF decoding is overwriting dtype on variable 'KMT'\n",
      "  .format(name))\n",
      "/Users/holivarez/anaconda3/lib/python3.6/site-packages/xarray/conventions.py:313: UserWarning: CF decoding is overwriting dtype on variable 'KMU'\n",
      "  .format(name))\n",
      "/Users/holivarez/anaconda3/lib/python3.6/site-packages/xarray/conventions.py:313: UserWarning: CF decoding is overwriting dtype on variable 'REGION_MASK'\n",
      "  .format(name))\n"
     ]
    },
    {
     "name": "stdout",
     "output_type": "stream",
     "text": [
      "18\n"
     ]
    },
    {
     "name": "stderr",
     "output_type": "stream",
     "text": [
      "/Users/holivarez/anaconda3/lib/python3.6/site-packages/xarray/conventions.py:313: UserWarning: CF decoding is overwriting dtype on variable 'moc_components'\n",
      "  .format(name))\n",
      "/Users/holivarez/anaconda3/lib/python3.6/site-packages/xarray/conventions.py:313: UserWarning: CF decoding is overwriting dtype on variable 'transport_components'\n",
      "  .format(name))\n",
      "/Users/holivarez/anaconda3/lib/python3.6/site-packages/xarray/conventions.py:313: UserWarning: CF decoding is overwriting dtype on variable 'transport_regions'\n",
      "  .format(name))\n",
      "/Users/holivarez/anaconda3/lib/python3.6/site-packages/xarray/conventions.py:313: UserWarning: CF decoding is overwriting dtype on variable 'KMT'\n",
      "  .format(name))\n",
      "/Users/holivarez/anaconda3/lib/python3.6/site-packages/xarray/conventions.py:313: UserWarning: CF decoding is overwriting dtype on variable 'KMU'\n",
      "  .format(name))\n",
      "/Users/holivarez/anaconda3/lib/python3.6/site-packages/xarray/conventions.py:313: UserWarning: CF decoding is overwriting dtype on variable 'REGION_MASK'\n",
      "  .format(name))\n"
     ]
    },
    {
     "name": "stdout",
     "output_type": "stream",
     "text": [
      "19\n"
     ]
    },
    {
     "name": "stderr",
     "output_type": "stream",
     "text": [
      "/Users/holivarez/anaconda3/lib/python3.6/site-packages/xarray/conventions.py:313: UserWarning: CF decoding is overwriting dtype on variable 'moc_components'\n",
      "  .format(name))\n",
      "/Users/holivarez/anaconda3/lib/python3.6/site-packages/xarray/conventions.py:313: UserWarning: CF decoding is overwriting dtype on variable 'transport_components'\n",
      "  .format(name))\n",
      "/Users/holivarez/anaconda3/lib/python3.6/site-packages/xarray/conventions.py:313: UserWarning: CF decoding is overwriting dtype on variable 'transport_regions'\n",
      "  .format(name))\n",
      "/Users/holivarez/anaconda3/lib/python3.6/site-packages/xarray/conventions.py:313: UserWarning: CF decoding is overwriting dtype on variable 'KMT'\n",
      "  .format(name))\n",
      "/Users/holivarez/anaconda3/lib/python3.6/site-packages/xarray/conventions.py:313: UserWarning: CF decoding is overwriting dtype on variable 'KMU'\n",
      "  .format(name))\n",
      "/Users/holivarez/anaconda3/lib/python3.6/site-packages/xarray/conventions.py:313: UserWarning: CF decoding is overwriting dtype on variable 'REGION_MASK'\n",
      "  .format(name))\n"
     ]
    },
    {
     "name": "stdout",
     "output_type": "stream",
     "text": [
      "20\n"
     ]
    },
    {
     "name": "stderr",
     "output_type": "stream",
     "text": [
      "/Users/holivarez/anaconda3/lib/python3.6/site-packages/xarray/conventions.py:313: UserWarning: CF decoding is overwriting dtype on variable 'moc_components'\n",
      "  .format(name))\n",
      "/Users/holivarez/anaconda3/lib/python3.6/site-packages/xarray/conventions.py:313: UserWarning: CF decoding is overwriting dtype on variable 'transport_components'\n",
      "  .format(name))\n",
      "/Users/holivarez/anaconda3/lib/python3.6/site-packages/xarray/conventions.py:313: UserWarning: CF decoding is overwriting dtype on variable 'transport_regions'\n",
      "  .format(name))\n",
      "/Users/holivarez/anaconda3/lib/python3.6/site-packages/xarray/conventions.py:313: UserWarning: CF decoding is overwriting dtype on variable 'KMT'\n",
      "  .format(name))\n",
      "/Users/holivarez/anaconda3/lib/python3.6/site-packages/xarray/conventions.py:313: UserWarning: CF decoding is overwriting dtype on variable 'KMU'\n",
      "  .format(name))\n",
      "/Users/holivarez/anaconda3/lib/python3.6/site-packages/xarray/conventions.py:313: UserWarning: CF decoding is overwriting dtype on variable 'REGION_MASK'\n",
      "  .format(name))\n"
     ]
    },
    {
     "name": "stdout",
     "output_type": "stream",
     "text": [
      "21\n"
     ]
    },
    {
     "name": "stderr",
     "output_type": "stream",
     "text": [
      "/Users/holivarez/anaconda3/lib/python3.6/site-packages/xarray/conventions.py:313: UserWarning: CF decoding is overwriting dtype on variable 'moc_components'\n",
      "  .format(name))\n",
      "/Users/holivarez/anaconda3/lib/python3.6/site-packages/xarray/conventions.py:313: UserWarning: CF decoding is overwriting dtype on variable 'transport_components'\n",
      "  .format(name))\n",
      "/Users/holivarez/anaconda3/lib/python3.6/site-packages/xarray/conventions.py:313: UserWarning: CF decoding is overwriting dtype on variable 'transport_regions'\n",
      "  .format(name))\n",
      "/Users/holivarez/anaconda3/lib/python3.6/site-packages/xarray/conventions.py:313: UserWarning: CF decoding is overwriting dtype on variable 'KMT'\n",
      "  .format(name))\n",
      "/Users/holivarez/anaconda3/lib/python3.6/site-packages/xarray/conventions.py:313: UserWarning: CF decoding is overwriting dtype on variable 'KMU'\n",
      "  .format(name))\n",
      "/Users/holivarez/anaconda3/lib/python3.6/site-packages/xarray/conventions.py:313: UserWarning: CF decoding is overwriting dtype on variable 'REGION_MASK'\n",
      "  .format(name))\n"
     ]
    },
    {
     "name": "stdout",
     "output_type": "stream",
     "text": [
      "22\n"
     ]
    },
    {
     "name": "stderr",
     "output_type": "stream",
     "text": [
      "/Users/holivarez/anaconda3/lib/python3.6/site-packages/xarray/conventions.py:313: UserWarning: CF decoding is overwriting dtype on variable 'moc_components'\n",
      "  .format(name))\n",
      "/Users/holivarez/anaconda3/lib/python3.6/site-packages/xarray/conventions.py:313: UserWarning: CF decoding is overwriting dtype on variable 'transport_components'\n",
      "  .format(name))\n",
      "/Users/holivarez/anaconda3/lib/python3.6/site-packages/xarray/conventions.py:313: UserWarning: CF decoding is overwriting dtype on variable 'transport_regions'\n",
      "  .format(name))\n",
      "/Users/holivarez/anaconda3/lib/python3.6/site-packages/xarray/conventions.py:313: UserWarning: CF decoding is overwriting dtype on variable 'KMT'\n",
      "  .format(name))\n",
      "/Users/holivarez/anaconda3/lib/python3.6/site-packages/xarray/conventions.py:313: UserWarning: CF decoding is overwriting dtype on variable 'KMU'\n",
      "  .format(name))\n",
      "/Users/holivarez/anaconda3/lib/python3.6/site-packages/xarray/conventions.py:313: UserWarning: CF decoding is overwriting dtype on variable 'REGION_MASK'\n",
      "  .format(name))\n"
     ]
    },
    {
     "name": "stdout",
     "output_type": "stream",
     "text": [
      "23\n"
     ]
    },
    {
     "name": "stderr",
     "output_type": "stream",
     "text": [
      "/Users/holivarez/anaconda3/lib/python3.6/site-packages/xarray/conventions.py:313: UserWarning: CF decoding is overwriting dtype on variable 'moc_components'\n",
      "  .format(name))\n",
      "/Users/holivarez/anaconda3/lib/python3.6/site-packages/xarray/conventions.py:313: UserWarning: CF decoding is overwriting dtype on variable 'transport_components'\n",
      "  .format(name))\n",
      "/Users/holivarez/anaconda3/lib/python3.6/site-packages/xarray/conventions.py:313: UserWarning: CF decoding is overwriting dtype on variable 'transport_regions'\n",
      "  .format(name))\n",
      "/Users/holivarez/anaconda3/lib/python3.6/site-packages/xarray/conventions.py:313: UserWarning: CF decoding is overwriting dtype on variable 'KMT'\n",
      "  .format(name))\n",
      "/Users/holivarez/anaconda3/lib/python3.6/site-packages/xarray/conventions.py:313: UserWarning: CF decoding is overwriting dtype on variable 'KMU'\n",
      "  .format(name))\n",
      "/Users/holivarez/anaconda3/lib/python3.6/site-packages/xarray/conventions.py:313: UserWarning: CF decoding is overwriting dtype on variable 'REGION_MASK'\n",
      "  .format(name))\n"
     ]
    },
    {
     "name": "stdout",
     "output_type": "stream",
     "text": [
      "24\n"
     ]
    },
    {
     "name": "stderr",
     "output_type": "stream",
     "text": [
      "/Users/holivarez/anaconda3/lib/python3.6/site-packages/xarray/conventions.py:313: UserWarning: CF decoding is overwriting dtype on variable 'moc_components'\n",
      "  .format(name))\n",
      "/Users/holivarez/anaconda3/lib/python3.6/site-packages/xarray/conventions.py:313: UserWarning: CF decoding is overwriting dtype on variable 'transport_components'\n",
      "  .format(name))\n",
      "/Users/holivarez/anaconda3/lib/python3.6/site-packages/xarray/conventions.py:313: UserWarning: CF decoding is overwriting dtype on variable 'transport_regions'\n",
      "  .format(name))\n",
      "/Users/holivarez/anaconda3/lib/python3.6/site-packages/xarray/conventions.py:313: UserWarning: CF decoding is overwriting dtype on variable 'KMT'\n",
      "  .format(name))\n",
      "/Users/holivarez/anaconda3/lib/python3.6/site-packages/xarray/conventions.py:313: UserWarning: CF decoding is overwriting dtype on variable 'KMU'\n",
      "  .format(name))\n",
      "/Users/holivarez/anaconda3/lib/python3.6/site-packages/xarray/conventions.py:313: UserWarning: CF decoding is overwriting dtype on variable 'REGION_MASK'\n",
      "  .format(name))\n"
     ]
    },
    {
     "name": "stdout",
     "output_type": "stream",
     "text": [
      "25\n"
     ]
    },
    {
     "name": "stderr",
     "output_type": "stream",
     "text": [
      "/Users/holivarez/anaconda3/lib/python3.6/site-packages/xarray/conventions.py:313: UserWarning: CF decoding is overwriting dtype on variable 'moc_components'\n",
      "  .format(name))\n",
      "/Users/holivarez/anaconda3/lib/python3.6/site-packages/xarray/conventions.py:313: UserWarning: CF decoding is overwriting dtype on variable 'transport_components'\n",
      "  .format(name))\n",
      "/Users/holivarez/anaconda3/lib/python3.6/site-packages/xarray/conventions.py:313: UserWarning: CF decoding is overwriting dtype on variable 'transport_regions'\n",
      "  .format(name))\n",
      "/Users/holivarez/anaconda3/lib/python3.6/site-packages/xarray/conventions.py:313: UserWarning: CF decoding is overwriting dtype on variable 'KMT'\n",
      "  .format(name))\n",
      "/Users/holivarez/anaconda3/lib/python3.6/site-packages/xarray/conventions.py:313: UserWarning: CF decoding is overwriting dtype on variable 'KMU'\n",
      "  .format(name))\n",
      "/Users/holivarez/anaconda3/lib/python3.6/site-packages/xarray/conventions.py:313: UserWarning: CF decoding is overwriting dtype on variable 'REGION_MASK'\n",
      "  .format(name))\n"
     ]
    },
    {
     "name": "stdout",
     "output_type": "stream",
     "text": [
      "26\n"
     ]
    },
    {
     "name": "stderr",
     "output_type": "stream",
     "text": [
      "/Users/holivarez/anaconda3/lib/python3.6/site-packages/xarray/conventions.py:313: UserWarning: CF decoding is overwriting dtype on variable 'KMT'\n",
      "  .format(name))\n",
      "/Users/holivarez/anaconda3/lib/python3.6/site-packages/xarray/conventions.py:313: UserWarning: CF decoding is overwriting dtype on variable 'KMU'\n",
      "  .format(name))\n",
      "/Users/holivarez/anaconda3/lib/python3.6/site-packages/xarray/conventions.py:313: UserWarning: CF decoding is overwriting dtype on variable 'REGION_MASK'\n",
      "  .format(name))\n",
      "/Users/holivarez/anaconda3/lib/python3.6/site-packages/xarray/conventions.py:313: UserWarning: CF decoding is overwriting dtype on variable 'moc_components'\n",
      "  .format(name))\n",
      "/Users/holivarez/anaconda3/lib/python3.6/site-packages/xarray/conventions.py:313: UserWarning: CF decoding is overwriting dtype on variable 'transport_components'\n",
      "  .format(name))\n",
      "/Users/holivarez/anaconda3/lib/python3.6/site-packages/xarray/conventions.py:313: UserWarning: CF decoding is overwriting dtype on variable 'transport_regions'\n",
      "  .format(name))\n"
     ]
    },
    {
     "name": "stdout",
     "output_type": "stream",
     "text": [
      "27\n"
     ]
    },
    {
     "name": "stderr",
     "output_type": "stream",
     "text": [
      "/Users/holivarez/anaconda3/lib/python3.6/site-packages/xarray/conventions.py:313: UserWarning: CF decoding is overwriting dtype on variable 'moc_components'\n",
      "  .format(name))\n",
      "/Users/holivarez/anaconda3/lib/python3.6/site-packages/xarray/conventions.py:313: UserWarning: CF decoding is overwriting dtype on variable 'transport_components'\n",
      "  .format(name))\n",
      "/Users/holivarez/anaconda3/lib/python3.6/site-packages/xarray/conventions.py:313: UserWarning: CF decoding is overwriting dtype on variable 'transport_regions'\n",
      "  .format(name))\n",
      "/Users/holivarez/anaconda3/lib/python3.6/site-packages/xarray/conventions.py:313: UserWarning: CF decoding is overwriting dtype on variable 'KMT'\n",
      "  .format(name))\n",
      "/Users/holivarez/anaconda3/lib/python3.6/site-packages/xarray/conventions.py:313: UserWarning: CF decoding is overwriting dtype on variable 'KMU'\n",
      "  .format(name))\n",
      "/Users/holivarez/anaconda3/lib/python3.6/site-packages/xarray/conventions.py:313: UserWarning: CF decoding is overwriting dtype on variable 'REGION_MASK'\n",
      "  .format(name))\n"
     ]
    },
    {
     "name": "stdout",
     "output_type": "stream",
     "text": [
      "28\n"
     ]
    },
    {
     "name": "stderr",
     "output_type": "stream",
     "text": [
      "/Users/holivarez/anaconda3/lib/python3.6/site-packages/xarray/conventions.py:313: UserWarning: CF decoding is overwriting dtype on variable 'moc_components'\n",
      "  .format(name))\n",
      "/Users/holivarez/anaconda3/lib/python3.6/site-packages/xarray/conventions.py:313: UserWarning: CF decoding is overwriting dtype on variable 'transport_components'\n",
      "  .format(name))\n",
      "/Users/holivarez/anaconda3/lib/python3.6/site-packages/xarray/conventions.py:313: UserWarning: CF decoding is overwriting dtype on variable 'transport_regions'\n",
      "  .format(name))\n",
      "/Users/holivarez/anaconda3/lib/python3.6/site-packages/xarray/conventions.py:313: UserWarning: CF decoding is overwriting dtype on variable 'KMT'\n",
      "  .format(name))\n",
      "/Users/holivarez/anaconda3/lib/python3.6/site-packages/xarray/conventions.py:313: UserWarning: CF decoding is overwriting dtype on variable 'KMU'\n",
      "  .format(name))\n",
      "/Users/holivarez/anaconda3/lib/python3.6/site-packages/xarray/conventions.py:313: UserWarning: CF decoding is overwriting dtype on variable 'REGION_MASK'\n",
      "  .format(name))\n"
     ]
    },
    {
     "name": "stdout",
     "output_type": "stream",
     "text": [
      "29\n"
     ]
    },
    {
     "name": "stderr",
     "output_type": "stream",
     "text": [
      "/Users/holivarez/anaconda3/lib/python3.6/site-packages/xarray/conventions.py:313: UserWarning: CF decoding is overwriting dtype on variable 'moc_components'\n",
      "  .format(name))\n",
      "/Users/holivarez/anaconda3/lib/python3.6/site-packages/xarray/conventions.py:313: UserWarning: CF decoding is overwriting dtype on variable 'transport_components'\n",
      "  .format(name))\n",
      "/Users/holivarez/anaconda3/lib/python3.6/site-packages/xarray/conventions.py:313: UserWarning: CF decoding is overwriting dtype on variable 'transport_regions'\n",
      "  .format(name))\n",
      "/Users/holivarez/anaconda3/lib/python3.6/site-packages/xarray/conventions.py:313: UserWarning: CF decoding is overwriting dtype on variable 'KMT'\n",
      "  .format(name))\n",
      "/Users/holivarez/anaconda3/lib/python3.6/site-packages/xarray/conventions.py:313: UserWarning: CF decoding is overwriting dtype on variable 'KMU'\n",
      "  .format(name))\n",
      "/Users/holivarez/anaconda3/lib/python3.6/site-packages/xarray/conventions.py:313: UserWarning: CF decoding is overwriting dtype on variable 'REGION_MASK'\n",
      "  .format(name))\n"
     ]
    },
    {
     "name": "stdout",
     "output_type": "stream",
     "text": [
      "30\n"
     ]
    },
    {
     "name": "stderr",
     "output_type": "stream",
     "text": [
      "/Users/holivarez/anaconda3/lib/python3.6/site-packages/xarray/conventions.py:313: UserWarning: CF decoding is overwriting dtype on variable 'moc_components'\n",
      "  .format(name))\n",
      "/Users/holivarez/anaconda3/lib/python3.6/site-packages/xarray/conventions.py:313: UserWarning: CF decoding is overwriting dtype on variable 'transport_components'\n",
      "  .format(name))\n",
      "/Users/holivarez/anaconda3/lib/python3.6/site-packages/xarray/conventions.py:313: UserWarning: CF decoding is overwriting dtype on variable 'transport_regions'\n",
      "  .format(name))\n",
      "/Users/holivarez/anaconda3/lib/python3.6/site-packages/xarray/conventions.py:313: UserWarning: CF decoding is overwriting dtype on variable 'KMT'\n",
      "  .format(name))\n",
      "/Users/holivarez/anaconda3/lib/python3.6/site-packages/xarray/conventions.py:313: UserWarning: CF decoding is overwriting dtype on variable 'KMU'\n",
      "  .format(name))\n",
      "/Users/holivarez/anaconda3/lib/python3.6/site-packages/xarray/conventions.py:313: UserWarning: CF decoding is overwriting dtype on variable 'REGION_MASK'\n",
      "  .format(name))\n"
     ]
    },
    {
     "name": "stdout",
     "output_type": "stream",
     "text": [
      "31\n"
     ]
    },
    {
     "name": "stderr",
     "output_type": "stream",
     "text": [
      "/Users/holivarez/anaconda3/lib/python3.6/site-packages/xarray/conventions.py:313: UserWarning: CF decoding is overwriting dtype on variable 'moc_components'\n",
      "  .format(name))\n",
      "/Users/holivarez/anaconda3/lib/python3.6/site-packages/xarray/conventions.py:313: UserWarning: CF decoding is overwriting dtype on variable 'transport_components'\n",
      "  .format(name))\n",
      "/Users/holivarez/anaconda3/lib/python3.6/site-packages/xarray/conventions.py:313: UserWarning: CF decoding is overwriting dtype on variable 'transport_regions'\n",
      "  .format(name))\n",
      "/Users/holivarez/anaconda3/lib/python3.6/site-packages/xarray/conventions.py:313: UserWarning: CF decoding is overwriting dtype on variable 'KMT'\n",
      "  .format(name))\n",
      "/Users/holivarez/anaconda3/lib/python3.6/site-packages/xarray/conventions.py:313: UserWarning: CF decoding is overwriting dtype on variable 'KMU'\n",
      "  .format(name))\n",
      "/Users/holivarez/anaconda3/lib/python3.6/site-packages/xarray/conventions.py:313: UserWarning: CF decoding is overwriting dtype on variable 'REGION_MASK'\n",
      "  .format(name))\n"
     ]
    },
    {
     "name": "stdout",
     "output_type": "stream",
     "text": [
      "32\n"
     ]
    },
    {
     "name": "stderr",
     "output_type": "stream",
     "text": [
      "/Users/holivarez/anaconda3/lib/python3.6/site-packages/xarray/conventions.py:313: UserWarning: CF decoding is overwriting dtype on variable 'moc_components'\n",
      "  .format(name))\n",
      "/Users/holivarez/anaconda3/lib/python3.6/site-packages/xarray/conventions.py:313: UserWarning: CF decoding is overwriting dtype on variable 'transport_components'\n",
      "  .format(name))\n",
      "/Users/holivarez/anaconda3/lib/python3.6/site-packages/xarray/conventions.py:313: UserWarning: CF decoding is overwriting dtype on variable 'transport_regions'\n",
      "  .format(name))\n",
      "/Users/holivarez/anaconda3/lib/python3.6/site-packages/xarray/conventions.py:313: UserWarning: CF decoding is overwriting dtype on variable 'KMT'\n",
      "  .format(name))\n",
      "/Users/holivarez/anaconda3/lib/python3.6/site-packages/xarray/conventions.py:313: UserWarning: CF decoding is overwriting dtype on variable 'KMU'\n",
      "  .format(name))\n",
      "/Users/holivarez/anaconda3/lib/python3.6/site-packages/xarray/conventions.py:313: UserWarning: CF decoding is overwriting dtype on variable 'REGION_MASK'\n",
      "  .format(name))\n"
     ]
    },
    {
     "name": "stdout",
     "output_type": "stream",
     "text": [
      "33\n"
     ]
    },
    {
     "name": "stderr",
     "output_type": "stream",
     "text": [
      "/Users/holivarez/anaconda3/lib/python3.6/site-packages/xarray/conventions.py:313: UserWarning: CF decoding is overwriting dtype on variable 'moc_components'\n",
      "  .format(name))\n",
      "/Users/holivarez/anaconda3/lib/python3.6/site-packages/xarray/conventions.py:313: UserWarning: CF decoding is overwriting dtype on variable 'transport_components'\n",
      "  .format(name))\n",
      "/Users/holivarez/anaconda3/lib/python3.6/site-packages/xarray/conventions.py:313: UserWarning: CF decoding is overwriting dtype on variable 'transport_regions'\n",
      "  .format(name))\n",
      "/Users/holivarez/anaconda3/lib/python3.6/site-packages/xarray/conventions.py:313: UserWarning: CF decoding is overwriting dtype on variable 'KMT'\n",
      "  .format(name))\n",
      "/Users/holivarez/anaconda3/lib/python3.6/site-packages/xarray/conventions.py:313: UserWarning: CF decoding is overwriting dtype on variable 'KMU'\n",
      "  .format(name))\n",
      "/Users/holivarez/anaconda3/lib/python3.6/site-packages/xarray/conventions.py:313: UserWarning: CF decoding is overwriting dtype on variable 'REGION_MASK'\n",
      "  .format(name))\n"
     ]
    },
    {
     "name": "stdout",
     "output_type": "stream",
     "text": [
      "34\n"
     ]
    },
    {
     "name": "stderr",
     "output_type": "stream",
     "text": [
      "/Users/holivarez/anaconda3/lib/python3.6/site-packages/xarray/conventions.py:313: UserWarning: CF decoding is overwriting dtype on variable 'moc_components'\n",
      "  .format(name))\n",
      "/Users/holivarez/anaconda3/lib/python3.6/site-packages/xarray/conventions.py:313: UserWarning: CF decoding is overwriting dtype on variable 'transport_components'\n",
      "  .format(name))\n",
      "/Users/holivarez/anaconda3/lib/python3.6/site-packages/xarray/conventions.py:313: UserWarning: CF decoding is overwriting dtype on variable 'transport_regions'\n",
      "  .format(name))\n",
      "/Users/holivarez/anaconda3/lib/python3.6/site-packages/xarray/conventions.py:313: UserWarning: CF decoding is overwriting dtype on variable 'KMT'\n",
      "  .format(name))\n",
      "/Users/holivarez/anaconda3/lib/python3.6/site-packages/xarray/conventions.py:313: UserWarning: CF decoding is overwriting dtype on variable 'KMU'\n",
      "  .format(name))\n",
      "/Users/holivarez/anaconda3/lib/python3.6/site-packages/xarray/conventions.py:313: UserWarning: CF decoding is overwriting dtype on variable 'REGION_MASK'\n",
      "  .format(name))\n"
     ]
    },
    {
     "name": "stdout",
     "output_type": "stream",
     "text": [
      "35\n"
     ]
    },
    {
     "name": "stderr",
     "output_type": "stream",
     "text": [
      "/Users/holivarez/anaconda3/lib/python3.6/site-packages/xarray/conventions.py:313: UserWarning: CF decoding is overwriting dtype on variable 'moc_components'\n",
      "  .format(name))\n",
      "/Users/holivarez/anaconda3/lib/python3.6/site-packages/xarray/conventions.py:313: UserWarning: CF decoding is overwriting dtype on variable 'transport_components'\n",
      "  .format(name))\n",
      "/Users/holivarez/anaconda3/lib/python3.6/site-packages/xarray/conventions.py:313: UserWarning: CF decoding is overwriting dtype on variable 'transport_regions'\n",
      "  .format(name))\n",
      "/Users/holivarez/anaconda3/lib/python3.6/site-packages/xarray/conventions.py:313: UserWarning: CF decoding is overwriting dtype on variable 'KMT'\n",
      "  .format(name))\n",
      "/Users/holivarez/anaconda3/lib/python3.6/site-packages/xarray/conventions.py:313: UserWarning: CF decoding is overwriting dtype on variable 'KMU'\n",
      "  .format(name))\n",
      "/Users/holivarez/anaconda3/lib/python3.6/site-packages/xarray/conventions.py:313: UserWarning: CF decoding is overwriting dtype on variable 'REGION_MASK'\n",
      "  .format(name))\n"
     ]
    }
   ],
   "source": [
    "#One year post-eruption\n",
    "levels=np.arange(7.8,8.7,0.1)\n",
    "beginningdate=datetime.date(1963,4,1) #to choose a start date within the dataset (year,month,date)\n",
    "enddate=datetime.date(1964,3,31) #to choose an end date within the dataset (year,month,date)\n",
    "\n",
    "#mytime=ds[\"time\"].sel(time=slice(beginningdate,enddate))\n",
    "#print(len(mytime))\n",
    "\n",
    "for ii,ff in enumerate(filenames):\n",
    "    print(ii)\n",
    "    \n",
    "    ds=xarray.open_dataset(ff,decode_times=False) #do not alter\n",
    "    ds['time'].values=ds['time'].values-d1800-15 #use this line and below anytime opening a dataset for ocean\n",
    "    ds['time'].attrs['units']='days since 1800-01-01 00:00:00'\n",
    "    ds['time_bound'].attrs['units']='days since 1800-01-01 00:00:00'\n",
    "    ds['time_bound'].values=ds['time_bound'].values-d1800\n",
    "    ds=xarray.decode_cf(ds,decode_times=True)\n",
    "    \n",
    "    PH_ALT_CO2=ds['PH_ALT_CO2'].sel(time=slice(beginningdate,enddate))\n",
    "    #isel(time=32) #isel will call/pull a single piece of data (ex. time equals 32); used as an example.\n",
    "    if ii==0:\n",
    "        a,b,c=np.shape(PH_ALT_CO2)\n",
    "        testarray=np.empty((len(filenames),a,b,c)) #np.shape will pull LAT by LONG\n",
    "        #print(np.shape(testarray))\n",
    "    testarray[ii,:,:,:]=PH_ALT_CO2.values #ii is pulling each 'slice,' colons are all time, all LAT, and all LONG\n",
    "    \n",
    "\n",
    "posteruption_ensemblemean=np.mean(testarray,axis=0) #takes the mean but only over one dimension\n",
    "#print(len(posteruption_ensemblemean))\n",
    "# axis=0 is one dimension, axis=1 is two dimensions, axis=2 is three dimensions\n",
    "\n",
    "#plt.contourf(posteruption_ensemblemean,levels,cmap=plt.cm.rainbow)\n",
    "             #another option: cmap=plt.cm.winter\n",
    "\n",
    "#plt.xticks([]) #removes x-axis ticks\n",
    "#plt.yticks([]) #removes y-axis ticks\n",
    "\n",
    "#plt.colorbar()\n",
    "#plt.tight_layout()"
   ]
  },
  {
   "cell_type": "code",
   "execution_count": 14,
   "metadata": {
    "scrolled": false
   },
   "outputs": [
    {
     "data": {
      "image/png": "[encoded data removed]",
      "text/plain": [
       "<Figure size 720x360 with 2 Axes>"
      ]
     },
     "metadata": {},
     "output_type": "display_data"
    }
   ],
   "source": [
    "#USE THIS CELL FOR ANIMATION\n",
    "#to compare pre- versus post-eruption PH data\n",
    "#print(np.shape(posteruption_ensemblemean),np.shape(preeruption_ensemblemean))\n",
    "#print(len(testarray))\n",
    "fig=plt.figure(figsize=(10,5))\n",
    "levels=np.arange(-.01,.0101,0.001) \n",
    "plt.title(\"pH_ALT_CO2: Agung (1963) 1 year pre- and 1 year post-eruption\",fontsize=20)\n",
    "plt.contourf(posteruption_ensemblemean[ii,:,:]-np.mean(preeruption_ensemblemean[:,:,:],axis=0),levels,cmap=plt.cm.RdBu,extend='both')\n",
    "plt.xticks([]) #removes x-axis ticks\n",
    "plt.yticks([]) #removes y-axis ticks\n",
    "plt.colorbar()\n",
    "plt.tight_layout()\n",
    "#plt.savefig('Agung PH_ALT_CO2.png')"
   ]
  },
  {
   "cell_type": "code",
   "execution_count": 5,
   "metadata": {},
   "outputs": [],
   "source": [
    "# ##COPIED AND PASTED IN CELL BELOW FOR ANIMATION## #\n",
    "\n",
    "#TO FIX LAT/LONG (1 of 2)\n",
    "\n",
    "#getting ready for interpolation\n",
    "#defining old grid\n",
    "# tlong=ds['TLONG'] #pulls in actual coordinates for each point\n",
    "# tlat=ds['TLAT'] #pulls in actual coordinates for each point\n",
    "# #defining new grid\n",
    "# y=np.arange(-90,90.1,0.25)\n",
    "# #check min and max values\n",
    "# #print(tlong.max())\n",
    "# x=np.arange(0,360.1,0.1)\n",
    "# xx,yy=np.meshgrid(x,y) #makes two 2D fields of x's and y's\n",
    "\n",
    "# points=(tlong.values.flatten(),tlat.values.flatten()) #puts points into grid data\n",
    "# print(np.shape(points))\n",
    "# values=(posteruption_ensemblemean-preeruption_ensemblemean).flatten() #taking 2D array and making it one list of values\n",
    "# print(np.shape(values))\n",
    "# newgrid=(xx.flatten(),yy.flatten())\n",
    "# print(np.shape(newgrid))\n",
    "\n",
    "# #interpolation\n",
    "# newvalues=griddata(points,values,newgrid)\n",
    "# #print(np.sum(np.isnan(newvalues))) #to check how many nan's there are\n",
    "# #print(np.size(newvalues)) #to check the size of the array (if the numbers are the same, something has gone wrong)\n",
    "\n",
    "# reshapedvalues=newvalues.reshape(np.shape(xx)) #put it back into a 2D-array\n",
    "# #print(len(reshapedvalues))"
   ]
  },
  {
   "cell_type": "code",
   "execution_count": null,
   "metadata": {},
   "outputs": [],
   "source": [
    "# ##COPIED AND PASTED IN CELL BELOW FOR ANIMATION## #\n",
    "\n",
    "#TO FIX LAT/LONG (2 of 2)\n",
    "\n",
    "#defines the figure\n",
    "# fig=plt.figure(figsize=(20,8))\n",
    "\n",
    "# #defines an axis that has the correct lat/long projection in it\n",
    "# ax=plt.axes(projection=ccrs.PlateCarree(central_longitude=180))\n",
    "\n",
    "# dataout,longout=add_cyclic_point(reshapedvalues,coord=x)\n",
    "\n",
    "# plt.contourf(longout,y,dataout,levels,cmap=plt.cm.RdBu,transform=ccrs.PlateCarree())\n",
    "\n",
    "# #makes coast lines\n",
    "# ax.coastlines()\n",
    "\n",
    "# plt.title(\"pH_ALT_CO2: Agung (1963) 1 year post- and 1 year pre-eruption\",fontsize=20)\n",
    "# plt.xticks([]) #removes x-axis ticks\n",
    "# plt.yticks([]) #removes y-axis ticks\n",
    "# plt.colorbar()\n",
    "# plt.tight_layout()\n",
    "# plt.savefig('PH_ALT_CO2 Agung 1 year.png')"
   ]
  },
  {
   "cell_type": "code",
   "execution_count": 26,
   "metadata": {},
   "outputs": [
    {
     "name": "stderr",
     "output_type": "stream",
     "text": [
      "Traceback (most recent call last):\n",
      "  File \"/Users/holivarez/anaconda3/lib/python3.6/site-packages/matplotlib/cbook/__init__.py\", line 388, in process\n",
      "    proxy(*args, **kwargs)\n",
      "  File \"/Users/holivarez/anaconda3/lib/python3.6/site-packages/matplotlib/cbook/__init__.py\", line 228, in __call__\n",
      "    return mtd(*args, **kwargs)\n",
      "  File \"/Users/holivarez/anaconda3/lib/python3.6/site-packages/matplotlib/animation.py\", line 1026, in _start\n",
      "    self._init_draw()\n",
      "  File \"/Users/holivarez/anaconda3/lib/python3.6/site-packages/matplotlib/animation.py\", line 1753, in _init_draw\n",
      "    self._drawn_artists = self._init_func()\n",
      "  File \"<ipython-input-26-c1616a11c604>\", line 9, in init\n",
      "    line.set_data([], [])\n",
      "NameError: name 'line' is not defined\n"
     ]
    },
    {
     "data": {
      "image/png": "[encoded data removed]",
      "text/plain": [
       "<Figure size 432x288 with 1 Axes>"
      ]
     },
     "metadata": {},
     "output_type": "display_data"
    },
    {
     "data": {
      "image/png": "[encoded data removed]",
      "text/plain": [
       "<Figure size 720x360 with 1 Axes>"
      ]
     },
     "metadata": {},
     "output_type": "display_data"
    },
    {
     "data": {
      "image/png": "[encoded data removed]",
      "text/plain": [
       "<Figure size 720x360 with 1 Axes>"
      ]
     },
     "metadata": {},
     "output_type": "display_data"
    },
    {
     "data": {
      "image/png": "[encoded data removed]",
      "text/plain": [
       "<Figure size 720x360 with 1 Axes>"
      ]
     },
     "metadata": {},
     "output_type": "display_data"
    },
    {
     "data": {
      "image/png": "[encoded data removed]",
      "text/plain": [
       "<Figure size 720x360 with 1 Axes>"
      ]
     },
     "metadata": {},
     "output_type": "display_data"
    },
    {
     "data": {
      "image/png": "[encoded data removed]",
      "text/plain": [
       "<Figure size 720x360 with 1 Axes>"
      ]
     },
     "metadata": {},
     "output_type": "display_data"
    },
    {
     "data": {
      "image/png": "[encoded data removed]",
      "text/plain": [
       "<Figure size 720x360 with 1 Axes>"
      ]
     },
     "metadata": {},
     "output_type": "display_data"
    },
    {
     "data": {
      "image/png": "[encoded data removed]",
      "text/plain": [
       "<Figure size 720x360 with 1 Axes>"
      ]
     },
     "metadata": {},
     "output_type": "display_data"
    },
    {
     "data": {
      "image/png": "[encoded data removed]",
      "text/plain": [
       "<Figure size 720x360 with 1 Axes>"
      ]
     },
     "metadata": {},
     "output_type": "display_data"
    },
    {
     "data": {
      "image/png": "[encoded data removed]",
      "text/plain": [
       "<Figure size 720x360 with 1 Axes>"
      ]
     },
     "metadata": {},
     "output_type": "display_data"
    },
    {
     "data": {
      "image/png": "[encoded data removed]",
      "text/plain": [
       "<Figure size 720x360 with 1 Axes>"
      ]
     },
     "metadata": {},
     "output_type": "display_data"
    },
    {
     "data": {
      "image/png": "[encoded data removed]",
      "text/plain": [
       "<Figure size 720x360 with 1 Axes>"
      ]
     },
     "metadata": {},
     "output_type": "display_data"
    },
    {
     "data": {
      "image/png": "[encoded data removed]",
      "text/plain": [
       "<Figure size 720x360 with 1 Axes>"
      ]
     },
     "metadata": {},
     "output_type": "display_data"
    }
   ],
   "source": [
    "# ##ALMOST THERE! 7/23## #\n",
    "\n",
    "\n",
    "levels=np.arange(-.01,.0101,0.001)\n",
    "fig,ax = plt.subplots()\n",
    "\n",
    "# initialization function: plot the background of each frame\n",
    "def init():\n",
    "    line.set_data([], [])\n",
    "    return line,\n",
    "\n",
    "# animation function.  This is called sequentially\n",
    "def animate(i):\n",
    "    line.set_data(posteruption_ensemblemean[ii,:,:]-np.mean(preeruption_ensemblemean[:,:,:],axis=0))\n",
    "    return (line,)\n",
    "\n",
    "# call the animator.  blit=True means only re-draw the parts that have changed.\n",
    "anim = animation.FuncAnimation(fig, animate, init_func=init,\n",
    "                               frames=1000, interval=2000, blit=True)\n",
    "\n",
    "ims=[]\n",
    "for ii in range(a): \n",
    "#    im=ax.contourf(posteruption_ensemblemean[ii,:,:]-np.mean(preeruption_ensemblemean[:,:,:],axis=0),levels)\n",
    "#     add_arts=im.collections\n",
    "#     ims.append(add_arts)\n",
    "    \n",
    "    #TO FIX LAT/LONG (1 of 2)\n",
    "\n",
    "    #getting ready for interpolation\n",
    "    #defining old grid\n",
    "    tlong=ds['TLONG'] #pulls in actual coordinates for each point\n",
    "    tlat=ds['TLAT'] #pulls in actual coordinates for each point\n",
    "    #defining new grid\n",
    "    y=np.arange(-90,90.1,0.25)\n",
    "    #check min and max values\n",
    "    #print(tlong.max())\n",
    "    x=np.arange(0,360.1,0.1)\n",
    "    xx,yy=np.meshgrid(x,y) #makes two 2D fields of x's and y's\n",
    "\n",
    "    points=(tlong.values.flatten(),tlat.values.flatten()) #puts points into grid data\n",
    "    #print(np.shape(points))\n",
    "    values=(posteruption_ensemblemean[ii,:,:]-np.mean(preeruption_ensemblemean[:,:,:],axis=0)).flatten() #taking 2D array and making it one list of values\n",
    "    #print(np.shape(values))\n",
    "    newgrid=(xx.flatten(),yy.flatten())\n",
    "    #print(np.shape(newgrid))\n",
    "\n",
    "    #interpolation\n",
    "    newvalues=griddata(points,values,newgrid)\n",
    "    #print(np.sum(np.isnan(newvalues))) #to check how many nan's there are\n",
    "    #print(np.size(newvalues)) #to check the size of the array (if the numbers are the same, something has gone wrong)\n",
    "\n",
    "    reshapedvalues=newvalues.reshape(np.shape(xx)) #put it back into a 2D-array\n",
    "    #print(len(reshapedvalues))\n",
    "    \n",
    "    #TO FIX LAT/LONG (2 of 2)\n",
    "\n",
    "    #defines the figure\n",
    "    fig=plt.figure(figsize=(10,5))\n",
    "\n",
    "    #defines an axis that has the correct lat/long projection in it\n",
    "    ax=plt.axes(projection=ccrs.PlateCarree(central_longitude=180))\n",
    "\n",
    "    dataout,longout=add_cyclic_point(reshapedvalues,coord=x)\n",
    "    \n",
    "    im=ax.contourf(longout,y,dataout,levels,cmap=plt.cm.RdBu,transform=ccrs.PlateCarree(),extend='both')\n",
    "    #im=ax.contourf(posteruption_ensemblemean[ii,:,:]-np.mean(preeruption_ensemblemean[:,:,:],axis=0),levels)\n",
    "    add_arts=im.collections\n",
    "    ims.append(add_arts)\n",
    "    \n",
    "#makes coast lines\n",
    "ax.coastlines()\n",
    "plt.title(\"Agung (1963) pH evolution\",fontsize=20)\n",
    "plt.xticks([]) #removes x-axis ticks\n",
    "plt.yticks([]) #removes y-axis ticks\n",
    "#plt.colorbar()\n",
    "\n",
    "anim = animation.ArtistAnimation(fig, ims)\n",
    "#HTML(anim.to_html5_video())\n",
    "\n",
    "anim.save('basic_animation_sunday.mp4', codec='rawvideo', fps=2)#,extra_args=['-vcodec', 'libx264'])\n",
    "\n",
    "#plt.show()"
   ]
  },
  {
   "cell_type": "code",
   "execution_count": 27,
   "metadata": {},
   "outputs": [
    {
     "name": "stdout",
     "output_type": "stream",
     "text": [
      "(12, 384, 320)\n"
     ]
    },
    {
     "name": "stderr",
     "output_type": "stream",
     "text": [
      "Traceback (most recent call last):\n",
      "  File \"/Users/holivarez/anaconda3/lib/python3.6/site-packages/matplotlib/cbook/__init__.py\", line 388, in process\n",
      "    proxy(*args, **kwargs)\n",
      "  File \"/Users/holivarez/anaconda3/lib/python3.6/site-packages/matplotlib/cbook/__init__.py\", line 228, in __call__\n",
      "    return mtd(*args, **kwargs)\n",
      "  File \"/Users/holivarez/anaconda3/lib/python3.6/site-packages/matplotlib/animation.py\", line 1026, in _start\n",
      "    self._init_draw()\n",
      "  File \"/Users/holivarez/anaconda3/lib/python3.6/site-packages/matplotlib/animation.py\", line 1753, in _init_draw\n",
      "    self._drawn_artists = self._init_func()\n",
      "  File \"<ipython-input-27-e5270335534b>\", line 11, in init\n",
      "    line.set_data([], [])\n",
      "NameError: name 'line' is not defined\n"
     ]
    },
    {
     "data": {
      "image/png": "[encoded data removed]",
      "text/plain": [
       "<Figure size 720x360 with 1 Axes>"
      ]
     },
     "metadata": {},
     "output_type": "display_data"
    }
   ],
   "source": [
    "# If you do not run 1 of 2 and 2 of 2 above, this works:\n",
    "\n",
    "fig,ax = plt.subplots()\n",
    "levels=np.arange(-.01,.0101,0.001)\n",
    "\n",
    "print(np.shape(posteruption_ensemblemean-preeruption_ensemblemean))\n",
    "#line,=ax.contourf(np.zeros(np.shape(preeruption_ensemblemean[0,:,:]))\n",
    "\n",
    "# initialization function: plot the background of each frame\n",
    "def init():\n",
    "    line.set_data([], [])\n",
    "    return line,\n",
    "\n",
    "# animation function.  This is called sequentially\n",
    "def animate(i):\n",
    "    line.set_data(posteruption_ensemblemean[i,:,:]-preeruption_ensemblemean[i,:,:],levels,cmap=plt.cm.RdBu,extend='both')\n",
    "    return (line,)\n",
    "\n",
    "# call the animator.  blit=True means only re-draw the parts that have changed.\n",
    "anim = animation.FuncAnimation(fig, animate, init_func=init,\n",
    "                               frames=1000, interval=2000, blit=True)\n",
    "                \n",
    "####anim = animation.FuncAnimation(fig, animate, init_func=init,\n",
    "#                               frames=10, interval=1, blit=True)\n",
    "ims=[]\n",
    "for ii in range(a): \n",
    "    im=ax.contourf(posteruption_ensemblemean[ii,:,:]-preeruption_ensemblemean[ii,:,:],levels,cmap=plt.cm.RdBu,extend='both')\n",
    "    add_arts=im.collections\n",
    "    ims.append(add_arts)\n",
    "anim = animation.ArtistAnimation(fig, ims)\n",
    "#HTML(anim.to_html5_video())\n",
    "\n",
    "# save the animation as an mp4.  This requires ffmpeg or mencoder to be\n",
    "# installed.  The extra_args ensure that the x264 codec is used, so that\n",
    "# the video can be embedded in html5.  You may need to adjust this for\n",
    "# your system: for more information, see\n",
    "# http://matplotlib.sourceforge.net/api/animation_api.html\n",
    "#anim.save('basic_animation.mp4', fps=30, extra_args=['-vcodec', 'libx264'])\n",
    "#makes coast lines\n",
    "#ax.coastlines()\n",
    "\n",
    "plt.title(\"Agung (1963)\",fontsize=20)\n",
    "plt.xticks([]) #removes x-axis ticks\n",
    "plt.yticks([]) #removes y-axis ticks\n",
    "h_in_inches = 10\n",
    "w_in_inches = 5\n",
    "fig.set_size_inches(h_in_inches, w_in_inches, True)\n",
    "#dpi=600\n",
    "#(dpi * h_in_inches) * (dpi * w_in_inches)\n",
    "#add dpi=dpi after fps=2\n",
    "\n",
    "#plt.colorbar()\n",
    "\n",
    "anim.save('basic_animation.mp4',codec='rawvideo', fps=2)#,extra_args=['-vcodec', 'libx264','-pix_fmt','yuv420p']\n",
    "\n",
    "#plt.show()"
   ]
  }
 ],
 "metadata": {
  "kernelspec": {
   "display_name": "Python 3",
   "language": "python",
   "name": "python3"
  },
  "language_info": {
   "codemirror_mode": {
    "name": "ipython",
    "version": 3
   },
   "file_extension": ".py",
   "mimetype": "text/x-python",
   "name": "python",
   "nbconvert_exporter": "python",
   "pygments_lexer": "ipython3",
   "version": "3.6.5"
  }
 },
 "nbformat": 4,
 "nbformat_minor": 2
}
